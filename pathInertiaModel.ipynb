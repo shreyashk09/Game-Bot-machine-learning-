{
 "cells": [
  {
   "cell_type": "code",
   "execution_count": 4,
   "metadata": {},
   "outputs": [
    {
     "name": "stderr",
     "output_type": "stream",
     "text": [
      "Using TensorFlow backend.\n",
      "/Users/shreyashkawalkar/anaconda3/lib/python3.6/importlib/_bootstrap.py:205: RuntimeWarning: compiletime version 3.5 of module 'tensorflow.python.framework.fast_tensor_util' does not match runtime version 3.6\n",
      "  return f(*args, **kwds)\n"
     ]
    }
   ],
   "source": [
    "from keras import Model\n",
    "from keras.models import Sequential, Layer\n",
    "from keras.layers import Dense, MaxPool2D, Dropout, Activation, Input\n",
    "from keras.optimizers import SGD, Adam, RMSprop\n",
    "from keras import callbacks\n",
    "from keras.layers import Flatten, LSTM\n",
    "import numpy as np\n",
    "import cv2\n",
    "import numpy as np\n",
    "import time\n",
    "import queue\n",
    "import copy\n",
    "import math\n",
    "import csv"
   ]
  },
  {
   "cell_type": "code",
   "execution_count": 2,
   "metadata": {
    "collapsed": true
   },
   "outputs": [],
   "source": [
    "#input::: [disp,slp]"
   ]
  },
  {
   "cell_type": "code",
   "execution_count": 3,
   "metadata": {
    "collapsed": true
   },
   "outputs": [],
   "source": [
    "def paramotion(que):\n",
    "    \n",
    "    setpara = []\n",
    "    pos1 = que.get()\n",
    "    kk=9\n",
    "    \n",
    "    while(kk):\n",
    "        pos2 = que.get()\n",
    "        y = pos2[1] - pos1[1]\n",
    "        x = pos2[0] - pos1[0]\n",
    "        disp = round(y**2 + x**2,1)\n",
    "        slp = round(math.atan2(y,x),2)\n",
    "        setpara.append([disp, slp])\n",
    "        pos1 = pos2\n",
    "        kk-=1\n",
    "    \n",
    "    return setpara"
   ]
  },
  {
   "cell_type": "code",
   "execution_count": 21,
   "metadata": {
    "collapsed": true,
    "scrolled": false
   },
   "outputs": [],
   "source": [
    "import cv2\n",
    "import numpy as np\n",
    "import time\n",
    "import queue\n",
    "import copy\n",
    "import math\n",
    "import csv\n",
    "\n",
    "\n",
    "vrec = cv2.VideoCapture('720p.mp4',0)\n",
    "shape = [480,680]\n",
    "\n",
    "\n",
    "setpara1 = []\n",
    "setpara2 = []\n",
    "datalist1 = []\n",
    "datalist2 = []\n",
    "labellist1 = []\n",
    "labellist2 = []\n",
    "pos11 = [0,0]\n",
    "pos12 = [0,0]\n",
    "pos21 = [0,0]\n",
    "pos22 = [0,0]\n",
    "\n",
    "kkk = 20\n",
    "while(kkk):\n",
    "    kkk-=1\n",
    "    ret, scr1 = vrec.read()\n",
    "    ret , scr2 = vrec.read()       \n",
    "\n",
    "while True:\n",
    "    start_time = time.time()\n",
    "    ret , scr1 = vrec.read()\n",
    "    ret, scr2 = vrec.read()\n",
    "    if not ret:\n",
    "        break\n",
    "    scr1 = cv2.resize(scr1, (680,480))\n",
    "    \n",
    "    hsv = cv2.cvtColor(scr1,cv2.COLOR_BGR2HSV)\n",
    "    hsv = cv2.inRange(hsv,(0, 70, 50),(180,255,255))\n",
    "    \n",
    "    cv2.imshow('scr1',scr1)\n",
    "\n",
    "    im3, contours, newhierarchy = cv2.findContours(hsv, cv2.RETR_TREE, cv2.CHAIN_APPROX_SIMPLE)\n",
    "    M = cv2.moments(contours[0])\n",
    "    if(M['m00']==0):\n",
    "        continue\n",
    "    cx = float(M['m10']/M['m00'])\n",
    "    cy = float(M['m01']/M['m00'])\n",
    "#     print(cx,cy)\n",
    "    pos12 = [cx,cy]\n",
    "    if len(setpara1) == 9:\n",
    "        datalist1+=[setpara1]\n",
    "        labellist1+=[setpara1[-1]]\n",
    "#         print(\"setpara1: \",setpara1)\n",
    "#         print(\"lis1: \",labellist1)\n",
    "        setpara1 = setpara1[1:]\n",
    "    y = pos12[1] - pos11[1]\n",
    "    x = pos12[0] - pos11[0]\n",
    "    disp = round(y**2 + x**2,1)\n",
    "    slp = round(math.atan2(y,x),2)\n",
    "    setpara1.append([disp, slp])\n",
    "    pos11 = pos12\n",
    "\n",
    "    scr2 = cv2.resize(scr2, (680,480))\n",
    "    hsv1 = cv2.cvtColor(scr2,cv2.COLOR_BGR2HSV)\n",
    "    hsv1 = cv2.inRange(hsv1,(0, 70, 50),(180,255,255))\n",
    "    \n",
    "    cv2.imshow('scr2',scr2)\n",
    "\n",
    "    im2, ncontours, hierarchy = cv2.findContours(hsv1, cv2.RETR_TREE, cv2.CHAIN_APPROX_SIMPLE)\n",
    "    M = cv2.moments(ncontours[0])\n",
    "    if(M['m00']==0):\n",
    "        continue\n",
    "    cx = float(M['m10']/M['m00'])\n",
    "    cy = float(M['m01']/M['m00'])\n",
    "    pos22 = [cx,cy]\n",
    "    if len(setpara2) == 9:\n",
    "        datalist2+=[setpara2]\n",
    "        labellist2+=[setpara2[-1]]\n",
    "        setpara2 = setpara2[1:]\n",
    "    y = pos22[1] - pos21[1]\n",
    "    x = pos22[0] - pos21[0]\n",
    "    disp = round(y**2 + x**2,1)\n",
    "    slp = round(math.atan2(y,x),2)\n",
    "    setpara2.append([disp, slp])\n",
    "    pos21 = pos22\n",
    "#         print(\"setpara2: \",setpara2)\n",
    "#     print(\"FPS: \", 1.0 / (time.time() - start_time))\n",
    "    q=cv2.waitKey(1)\n",
    "\n",
    "    if q==27:\n",
    "        cv2.destroyAllWindows()\n",
    "        break;\n",
    "#     break\n",
    "cv2.destroyAllWindows()"
   ]
  },
  {
   "cell_type": "code",
   "execution_count": 22,
   "metadata": {
    "collapsed": true
   },
   "outputs": [],
   "source": [
    "datalist1 = datalist1[:-2]\n",
    "datalist2 = datalist2[:-2]\n",
    "labellist1 = labellist1[2:]\n",
    "labellist2 = labellist2[2:]"
   ]
  },
  {
   "cell_type": "code",
   "execution_count": 23,
   "metadata": {
    "collapsed": true
   },
   "outputs": [],
   "source": [
    "import csv\n",
    "\n",
    "with open('pathInertiaData.csv', 'w') as writeFile1:\n",
    "    writer = csv.writer(writeFile1)\n",
    "    writer.writerows(datalist1)\n",
    "    writer.writerows(datalist2)\n",
    "writeFile1.close()\n",
    "\n",
    "with open('pathInertiaLabel.csv', 'w') as writeFile2:\n",
    "    writer = csv.writer(writeFile2)\n",
    "    writer.writerows(labellist1)\n",
    "    writer.writerows(labellist2)\n",
    "writeFile2.close()"
   ]
  },
  {
   "cell_type": "code",
   "execution_count": 16,
   "metadata": {},
   "outputs": [
    {
     "ename": "NameError",
     "evalue": "name 'data' is not defined",
     "output_type": "error",
     "traceback": [
      "\u001b[0;31m---------------------------------------------------------------------------\u001b[0m",
      "\u001b[0;31mNameError\u001b[0m                                 Traceback (most recent call last)",
      "\u001b[0;32m<ipython-input-16-6d729662e065>\u001b[0m in \u001b[0;36m<module>\u001b[0;34m()\u001b[0m\n\u001b[0;32m----> 1\u001b[0;31m \u001b[0mlen\u001b[0m\u001b[0;34m(\u001b[0m\u001b[0mdata\u001b[0m\u001b[0;34m[\u001b[0m\u001b[0;36m0\u001b[0m\u001b[0;34m]\u001b[0m\u001b[0;34m)\u001b[0m\u001b[0;34m\u001b[0m\u001b[0m\n\u001b[0m",
      "\u001b[0;31mNameError\u001b[0m: name 'data' is not defined"
     ]
    }
   ],
   "source": [
    "len(data[0])"
   ]
  },
  {
   "cell_type": "code",
   "execution_count": 1,
   "metadata": {
    "collapsed": true
   },
   "outputs": [],
   "source": [
    "import csv\n",
    "\n",
    "with open('pathInertiaData.csv', 'r') as readFile1:\n",
    "    reader = csv.reader(readFile1)\n",
    "    data = list(reader)\n",
    "readFile1.close()\n",
    "\n",
    "with open('pathInertiaLabel.csv', 'r') as readFile2:\n",
    "    reader = csv.reader(readFile2)\n",
    "    label = list(reader)\n",
    "readFile2.close()"
   ]
  },
  {
   "cell_type": "code",
   "execution_count": 2,
   "metadata": {
    "collapsed": true
   },
   "outputs": [],
   "source": [
    "for ind in range(len(data)):\n",
    "    data[ind] = list(map(eval,data[ind])) "
   ]
  },
  {
   "cell_type": "code",
   "execution_count": 5,
   "metadata": {},
   "outputs": [
    {
     "data": {
      "text/plain": [
       "((17517, 9, 2), (17517, 2))"
      ]
     },
     "execution_count": 5,
     "metadata": {},
     "output_type": "execute_result"
    }
   ],
   "source": [
    "train_data = np.vstack(data)\n",
    "train_target = np.array(label)\n",
    "train_data.shape, train_target.shape\n",
    "train_data = train_data.reshape((-1, 9, 2))\n",
    "train_target = train_target.reshape((-1, 2))\n",
    "train_data.shape, train_target.shape"
   ]
  },
  {
   "cell_type": "code",
   "execution_count": 8,
   "metadata": {},
   "outputs": [
    {
     "name": "stdout",
     "output_type": "stream",
     "text": [
      "_________________________________________________________________\n",
      "Layer (type)                 Output Shape              Param #   \n",
      "=================================================================\n",
      "lstm_3 (LSTM)                (None, 2)                 40        \n",
      "_________________________________________________________________\n",
      "dense_2 (Dense)              (None, 2)                 6         \n",
      "=================================================================\n",
      "Total params: 46\n",
      "Trainable params: 46\n",
      "Non-trainable params: 0\n",
      "_________________________________________________________________\n"
     ]
    }
   ],
   "source": [
    "model = Sequential()  \n",
    "model.add(LSTM(2, input_shape=(9, 2), unroll=False, return_sequences=False))\n",
    "model.add(Dense(2, activation='relu'))\n",
    "model.compile(loss='mean_absolute_error', optimizer='adam')\n",
    "model.summary()"
   ]
  },
  {
   "cell_type": "code",
   "execution_count": null,
   "metadata": {},
   "outputs": [
    {
     "name": "stderr",
     "output_type": "stream",
     "text": [
      "/Users/shreyashkawalkar/anaconda3/lib/python3.6/site-packages/keras/models.py:944: UserWarning: The `nb_epoch` argument in `fit` has been renamed `epochs`.\n",
      "  warnings.warn('The `nb_epoch` argument in `fit` '\n"
     ]
    },
    {
     "name": "stdout",
     "output_type": "stream",
     "text": [
      "Train on 14013 samples, validate on 3504 samples\n",
      "Epoch 1/200\n",
      " 9252/14013 [==================>...........] - ETA: 1:12 - loss: 40.2461"
     ]
    }
   ],
   "source": [
    "checkPoint = callbacks.ModelCheckpoint(filepath='pathInertia.h5', verbose=1, save_best_only=True)\n",
    "model.fit(train_data, train_target, nb_epoch=200, batch_size=1, verbose=1,callbacks=[checkPoint],validation_split=0.2, shuffle=True)\n",
    "model_json = model.to_json()\n",
    "with open(\"pathInertia.json\", \"w\") as json_file:\n",
    "    json_file.write(model_json)"
   ]
  },
  {
   "cell_type": "code",
   "execution_count": null,
   "metadata": {
    "collapsed": true
   },
   "outputs": [],
   "source": []
  },
  {
   "cell_type": "code",
   "execution_count": null,
   "metadata": {
    "collapsed": true
   },
   "outputs": [],
   "source": []
  }
 ],
 "metadata": {
  "kernelspec": {
   "display_name": "Python 3",
   "language": "python",
   "name": "python3"
  },
  "language_info": {
   "codemirror_mode": {
    "name": "ipython",
    "version": 3
   },
   "file_extension": ".py",
   "mimetype": "text/x-python",
   "name": "python",
   "nbconvert_exporter": "python",
   "pygments_lexer": "ipython3",
   "version": "3.6.2"
  }
 },
 "nbformat": 4,
 "nbformat_minor": 2
}
