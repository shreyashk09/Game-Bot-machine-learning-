{
 "cells": [
  {
   "cell_type": "code",
   "execution_count": null,
   "metadata": {
    "collapsed": true
   },
   "outputs": [],
   "source": [
    "path = []\n"
   ]
  },
  {
   "cell_type": "code",
   "execution_count": 2,
   "metadata": {
    "collapsed": true
   },
   "outputs": [],
   "source": [
    "path = [[0, 10], [1, 9], [2, 9], [3, 10], [4, 9], [5, 10], [6, 9], [7, 9], [8, 10], [9, 10], [10, 11], [11, 10], [12, 10], [13, 11],[14, 11], [15, 11], [16, 10], [17, 10], [18, 9], [19, 10]]"
   ]
  },
  {
   "cell_type": "code",
   "execution_count": 19,
   "metadata": {},
   "outputs": [
    {
     "name": "stdout",
     "output_type": "stream",
     "text": [
      "[[5.0, 5.0], [7.5, 7.5], [10.5, 10.5]]\n"
     ]
    }
   ],
   "source": [
    "import cv2\n",
    "import numpy as np\n",
    "blank = cv2.imread(\"blank.png\",0)\n",
    "blank = cv2.resize(blank,(20,20))\n",
    "# path = np.array(path)\n",
    "# epsilon = 0.1*cv2.arcLength(path, True)\n",
    "# path = cv2.approxPolyDP(path, epsilon, False)\n",
    "# print(path)\n",
    "pnts = []\n",
    "for i in range(1,16):\n",
    "    pts = [np.mean(path[0:15*(i)][0]),np.mean(path[0:15*(i)][1])]\n",
    "    pnts.append(pts)\n",
    "#     cv2.line(blank,(path[i][1],path[i][0]),(path[i+1][1],path[i+1][0]),0)\n",
    "#     pnts = np.mean(path[i:i+15][0])\n",
    "print(pnts)\n",
    "blank = cv2.resize(blank,(680,480))\n",
    "cv2.imshow(\"blank\",blank)\n",
    "q = cv2.waitKey(1)\n",
    "if q == 27:\n",
    "    cv2.destroyAllWindows()"
   ]
  },
  {
   "cell_type": "code",
   "execution_count": 32,
   "metadata": {
    "collapsed": true
   },
   "outputs": [],
   "source": [
    "import math\n",
    "slp = []\n",
    "for pix in pnts:\n",
    "    slp.append(math.atan2(340-pix[1],pix[0]-240) - 1.57)"
   ]
  },
  {
   "cell_type": "code",
   "execution_count": 33,
   "metadata": {},
   "outputs": [
    {
     "name": "stdout",
     "output_type": "stream",
     "text": [
      "[1.1292184306130484, 0.0007963267948964958]\n"
     ]
    }
   ],
   "source": [
    "import math\n",
    "print(slp)"
   ]
  },
  {
   "cell_type": "code",
   "execution_count": null,
   "metadata": {
    "collapsed": true
   },
   "outputs": [],
   "source": []
  },
  {
   "cell_type": "code",
   "execution_count": null,
   "metadata": {
    "collapsed": true
   },
   "outputs": [],
   "source": [
    "#output:: 6 category  \n",
    "#input:: 15 slope \n",
    "#mode = xgboost\n"
   ]
  },
  {
   "cell_type": "code",
   "execution_count": 74,
   "metadata": {
    "collapsed": true
   },
   "outputs": [],
   "source": [
    "import random\n",
    "import gym\n",
    "import numpy as np\n",
    "from collections import deque\n",
    "from keras.models import Sequential\n",
    "from keras.layers import Dense\n",
    "from keras.optimizers import Adam\n",
    "from keras import backend as K\n",
    "\n",
    "EPISODES = 500\n",
    "\n",
    "\n",
    "class DQNAgent:\n",
    "    def __init__(self, state_size, action_size):\n",
    "        self.state_size = state_size\n",
    "        self.action_size = action_size\n",
    "        self.memory = deque(maxlen=pow(10,20))\n",
    "        self.gamma = 0.95    # discount rate\n",
    "        self.epsilon = 1.0  # exploration rate\n",
    "        self.epsilon_min = 0.01\n",
    "        self.epsilon_decay = 0.99\n",
    "        self.learning_rate = 0.001\n",
    "        self.model = self._build_model()\n",
    "        self.target_model = self._build_model()\n",
    "        self.update_target_model()\n",
    "    \n",
    "    def _huber_loss(self, target, prediction):\n",
    "        error = prediction - target\n",
    "        return K.mean(K.sqrt(1+K.square(error))-1, axis=-1)\n",
    "    \n",
    "    def _build_model(self):\n",
    "        model = Sequential()\n",
    "        model.add(Dense(24, input_dim=self.state_size, activation='relu'))\n",
    "        model.add(Dense(24, activation='relu'))\n",
    "        model.add(Dense(self.action_size, activation='linear'))\n",
    "        model.compile(loss=self._huber_loss, optimizer=Adam(lr=self.learning_rate))\n",
    "        return model\n",
    "    \n",
    "    def update_target_model(self):\n",
    "        self.target_model.set_weights(self.model.get_weights())\n",
    "    \n",
    "    def remember(self, state, action, reward, next_state, done):\n",
    "        self.memory.append((state, action, reward, next_state, done))\n",
    "    \n",
    "    def act(self, state):\n",
    "        if np.random.rand() <= self.epsilon:\n",
    "            return random.randrange(self.action_size)\n",
    "        act_values = self.model.predict(state)\n",
    "        return np.argmax(act_values[0]) \n",
    "    \n",
    "    def replay(self, batch_size):\n",
    "        minibatch = random.sample(self.memory, batch_size)\n",
    "        for state, action, reward, next_state, done in minibatch:\n",
    "            target = self.model.predict(state)\n",
    "            if done:\n",
    "                target[0][action] = reward\n",
    "            else:\n",
    "                t = self.target_model.predict(next_state)[0]\n",
    "                target[0][action] = reward + self.gamma * np.amax(t)\n",
    "            self.model.fit(state, target, epochs=1, verbose=0)\n",
    "        if self.epsilon > self.epsilon_min:\n",
    "            self.epsilon *= self.epsilon_decay\n",
    "\n",
    "    def load(self, name):\n",
    "        self.model.load_weights(name)\n",
    "    \n",
    "    def save(self, name):\n",
    "        self.model.save_weights(name)\n",
    "    \n",
    "    def decl_rew(self,state):\n",
    "        rew = np.sum(([1.75]*10 - abs(state))*[10,10,10,9,9,9,8,8,7,6,5,4,3,2,1])\n",
    "        d = False\n",
    "        if rew > 130:\n",
    "            d = True\n",
    "        return [nxtstate, rew, True]\n",
    "        \n",
    "\n",
    "\n",
    "def steer():\n",
    "    state_size = 15\n",
    "    action_size = 6\n",
    "    agent = DQNAgent(state_size, action_size)\n",
    "    \n",
    "    agent.load(\"./save/steerwts.h5\")\n",
    "    \n",
    "    batch_size = 50\n",
    "    \n",
    "    while True:\n",
    "        done = False\n",
    "        while True:\n",
    "            state = inp_state \n",
    "            state = np.reshape(state, [1, state_size])\n",
    "            action = agent.act(state)\n",
    "            print(\"action:\",action)\n",
    "            execute_action(action)\n",
    "            next_state, reward, done, _ = decl_rew(state)##input and reward\n",
    "            if(next_state == []):\n",
    "                break;\n",
    "            reward = reward if not done else -10\n",
    "            next_state = np.reshape(next_state, [1, state_size])\n",
    "            agent.remember(state, action, reward, next_state, done)\n",
    "            state = next_state\n",
    "            if abs(np.mean(state)) <= 0.175:\n",
    "                done = True\n",
    "            if done or upd:\n",
    "                print(\"updating weights under 10 deg\")\n",
    "                agent.update_target_model()\n",
    "                print(\"updated\")\n",
    "                done = False\n",
    "            if len(agent.memory) > batch_size:\n",
    "                print(\"replaying at 50 and saving weights\")\n",
    "                agent.save(\"./save/steerwts.h5\")\n",
    "                print(\"weights saved\")\n",
    "                agent.replay(batch_size)\n",
    "                print(\"replayed\")"
   ]
  },
  {
   "cell_type": "code",
   "execution_count": 49,
   "metadata": {},
   "outputs": [
    {
     "name": "stdout",
     "output_type": "stream",
     "text": [
      "4\n",
      "[[-0.02340593 -0.04727202 -0.00067567 -0.02899503]]\n"
     ]
    }
   ],
   "source": [
    "state = env.reset()\n",
    "print(state_size)\n",
    "state = np.reshape(state, [-1, state_size])\n",
    "print(state)"
   ]
  },
  {
   "cell_type": "code",
   "execution_count": 50,
   "metadata": {},
   "outputs": [
    {
     "name": "stdout",
     "output_type": "stream",
     "text": [
      "4\n"
     ]
    }
   ],
   "source": [
    "# agent.save(\"./save/cartpole-ddqn.h5\")\n",
    "print(state_size)"
   ]
  },
  {
   "cell_type": "code",
   "execution_count": 12,
   "metadata": {},
   "outputs": [],
   "source": [
    "import numpy as np\n",
    "from PIL import ImageGrab\n",
    "import cv2\n",
    "import time\n",
    "\n",
    "def screen_record(): \n",
    "    last_time = time.time()\n",
    "    while True:\n",
    "        # 800x600 windowed mode\n",
    "        printscreen_pil =  ImageGrab.grab(bbox=(0,40,800,640))\n",
    "        printscreen_numpy =   np.array(printscreen_pil.getdata(),dtype='uint8')\\\n",
    "        .reshape((printscreen_pil.size[1],printscreen_pil.size[0],3))\n",
    "        print('loop took {} seconds'.format(time.time()-last_time))\n",
    "        last_time = time.time()\n",
    "\n",
    "    ##    cv2.imshow('window',cv2.cvtColor(printscreen_numpy, cv2.COLOR_BGR2RGB))\n",
    "    ##    if cv2.waitKey(25) & 0xFF == ord('q'):\n",
    "    ##        cv2.destroyAllWindows()\n",
    "    ##        break"
   ]
  },
  {
   "cell_type": "code",
   "execution_count": 52,
   "metadata": {},
   "outputs": [
    {
     "name": "stdout",
     "output_type": "stream",
     "text": [
      "10000000000000000000000000000000000000000000000000000000000000000000000000000000000000000000000000000\n"
     ]
    }
   ],
   "source": [
    "import math\n",
    "print(pow(10,100))"
   ]
  },
  {
   "cell_type": "code",
   "execution_count": 73,
   "metadata": {},
   "outputs": [
    {
     "data": {
      "text/plain": [
       "False"
      ]
     },
     "execution_count": 73,
     "metadata": {},
     "output_type": "execute_result"
    }
   ],
   "source": [
    "a=[]\n",
    "a is None"
   ]
  },
  {
   "cell_type": "code",
   "execution_count": 75,
   "metadata": {},
   "outputs": [
    {
     "data": {
      "text/plain": [
       "[1.75, 1.75, 1.75, 1.75, 1.75, 1.75, 1.75, 1.75, 1.75, 1.75]"
      ]
     },
     "execution_count": 75,
     "metadata": {},
     "output_type": "execute_result"
    }
   ],
   "source": [
    "[1.75]*10"
   ]
  },
  {
   "cell_type": "code",
   "execution_count": null,
   "metadata": {
    "collapsed": true
   },
   "outputs": [],
   "source": []
  }
 ],
 "metadata": {
  "kernelspec": {
   "display_name": "Python 3",
   "language": "python",
   "name": "python3"
  },
  "language_info": {
   "codemirror_mode": {
    "name": "ipython",
    "version": 3
   },
   "file_extension": ".py",
   "mimetype": "text/x-python",
   "name": "python",
   "nbconvert_exporter": "python",
   "pygments_lexer": "ipython3",
   "version": "3.6.2"
  }
 },
 "nbformat": 4,
 "nbformat_minor": 2
}
