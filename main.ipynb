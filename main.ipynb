{
 "cells": [
  {
   "cell_type": "code",
   "execution_count": 7,
   "metadata": {},
   "outputs": [],
   "source": [
    "import numpy as np\n",
    "import pandas as pd\n",
    "import time\n",
    "import cv2\n",
    "import threading"
   ]
  },
  {
   "cell_type": "code",
   "execution_count": 71,
   "metadata": {},
   "outputs": [],
   "source": [
    "def hod_rd_sub1(mean,lim1):\n",
    "    kk=0\n",
    "    s=[]\n",
    "    for i in range(my,shape[1]-lmd,lmd-2):\n",
    "#         low = list(mean - lim1)\n",
    "#         high = list(mean + lim1)\n",
    "#         res = [np.mean(scr[mx-lmd:mx+1, i:i+lmd,j]) for j in range(3)]\n",
    "        \n",
    "#         if(res>low and res<high):\n",
    "#             res = np.array(res)\n",
    "#             mean = cv2.addWeighted(res,0.6,mean,0.4,0)\n",
    "#             newscr[mx-lmd:mx+1, i:i+lmd] = 255\n",
    "# #             t[i] = threading.Thread(target = ver_rd,args=(i,mean,))\n",
    "# #             ver_rd(i,mean)\n",
    "#         else:\n",
    "#             newscr[mx-lmd:mx+1, i:i+lmd] = 0\n",
    "        ver_rd(i,mean)\n",
    "#             if(res>2*low):\n",
    "#                 break\n",
    "#         s.append(threading.Thread(target = ver_rd,args=(i,mean,)))\n",
    "#         s[kk].start()\n",
    "#         kk+=1\n",
    "# #         print(\"S start:\",kk-1)\n",
    "#     for i in range(kk):\n",
    "#         s[i].join()\n",
    "#         print(\"S stop:\",i)"
   ]
  },
  {
   "cell_type": "code",
   "execution_count": 72,
   "metadata": {},
   "outputs": [],
   "source": [
    "def hod_rd_sub2(mean1,lim1):\n",
    "    kk=0\n",
    "    t=[]\n",
    "    for i in range(my+lmd,0, -(lmd-2)):\n",
    "#         low = list(mean1 - lim1)\n",
    "#         high = list(mean1 + lim1)\n",
    "#         res = [np.mean(scr[mx-lmd:mx+1, i-lmd:i,j]) for j in range(3)]\n",
    "#         if(res>low and res<high):      \n",
    "#             res = np.array(res)\n",
    "#             mean1 = cv2.addWeighted(res,0.6,mean1,0.4,0)\n",
    "#             newscr[mx-lmd:mx+1, i-lmd:i] = 255\n",
    "#             ver_rd(i,mean1)\n",
    "#             threading.Thread(ver_rd,(i,mean1,))\n",
    "#         else:\n",
    "#             newscr[mx-lmd:mx+1, i-lmd:i] = 0\n",
    "        ver_rd(i,mean1)\n",
    "#         t.append(threading.Thread(target = ver_rd,args=(i,mean1,)))\n",
    "#         t[kk].start()\n",
    "#         kk+=1\n",
    "#         print(\"T start:\",kk-1)\n",
    "#     for i in range(kk):\n",
    "#         t[i].join()\n",
    "#         print(\"T stop:\",i)"
   ]
  },
  {
   "cell_type": "code",
   "execution_count": 73,
   "metadata": {
    "collapsed": true
   },
   "outputs": [],
   "source": [
    "def hor_rd(mean):\n",
    "    lim1=2*lim\n",
    "    hod_rd_sub1(mean,lim1)\n",
    "    hod_rd_sub2(mean,lim1)\n",
    "#     t1 = threading.Thread(target = hod_rd_sub1,args=(mean,lim1))\n",
    "#     t1.start()\n",
    "#     t2 = threading.Thread(target = hod_rd_sub2,args=(mean,lim1))\n",
    "#     t2.start()\n",
    "#     t1.join()\n",
    "#     t2.join()"
   ]
  },
  {
   "cell_type": "code",
   "execution_count": 76,
   "metadata": {
    "collapsed": true
   },
   "outputs": [],
   "source": [
    "def ver_rd(x,mean):\n",
    "    lm = lim\n",
    "    for i in range(mx,lmd+1,-(lmd-2)):\n",
    "        lm += lm*0.02 \n",
    "        low = mean - lm\n",
    "        high = mean + lm\n",
    "        newscr[i-lmd:i, x:x+lmd] = cv2.inRange(scr[i-lmd:i, x:x+lmd],low,high)\n",
    "        \n",
    "#         res = [np.mean(scr[i-lmd:i, x:x+lmd,j]) for j in range(3)]\n",
    "#         res = np.array(res)\n",
    "#         mean = cv2.addWeighted(res,0.5,mean,0.5,0) "
   ]
  },
  {
   "cell_type": "code",
   "execution_count": 78,
   "metadata": {},
   "outputs": [],
   "source": [
    "import numpy as np\n",
    "import pandas as pd\n",
    "import time\n",
    "import cv2\n",
    "import threading\n",
    "y=200\n",
    "lim = 15\n",
    "lmd = 20\n",
    "\n",
    "kernel = np.ones((3,3),np.uint8)\n",
    "# scr = cv2.imread('12.png')\n",
    "vrec = cv2.VideoCapture('v0.mp4',0)\n",
    "shape = [480,680]#scr.shape\n",
    "\n",
    "mx = shape[0]\n",
    "my = shape[1]//2\n",
    "\n",
    "\n",
    "while True:\n",
    "    start_time = time.time()\n",
    "    ret, scr = vrec.read()\n",
    "#     ret, scr2 = vrec.read()\n",
    "#     ret, scr3 = vrec.read()\n",
    "    \n",
    "#     scr = np.mean(scr1,scr2,scr3)\n",
    "    if not ret:\n",
    "            break\n",
    "    scr = cv2.resize(scr, (680,480)) \n",
    "    newscr = np.zeros((shape[0],shape[1]),np.uint8)\n",
    "#     scr = cv2.bilateralFilter(scr,70,30,100)\n",
    "    mean = [np.mean(scr[440:480,200:480, i]) for i in range(3)]\n",
    "    mean = np.array(mean)\n",
    "    hor_rd(mean)\n",
    "\n",
    "#     newscr = cv2.morphologyEx(newscr,cv2.MORPH_OPEN,kernel, iterations = 1)\n",
    "#     newscr = cv2.morphologyEx(newscr,cv2.MORPH_CLOSE,kernel, iterations = 1)\n",
    "    band =  cv2.bitwise_and(scr,scr,mask = newscr)\n",
    "\n",
    "    cv2.imshow('blur',band)\n",
    "\n",
    "#     sure_bg = cv2.dilate(newscr,kernel,iterations=1)\n",
    "#     dist_transform = cv2.distanceTransform(newscr,cv2.DIST_L2,5)\n",
    "#     ret, sure_fg = cv2.threshold(dist_transform,0.00000001*dist_transform.max(),255,0)\n",
    "#     sure_fg = np.uint8(sure_fg)\n",
    "#     unknown = cv2.subtract(sure_bg,sure_fg)\n",
    "#     ret, markers = cv2.connectedComponents(sure_fg)\n",
    "\n",
    "#     markers = markers+1\n",
    "\n",
    "#     markers[unknown==255] = 0\n",
    "\n",
    "\n",
    "#     markers = cv2.watershed(scr,markers)\n",
    "#     scr[markers == -1] = [0,0,255]\n",
    "\n",
    "    cv2.imshow('scr1',scr)\n",
    "    print(\"FPS: \", 1.0 / (time.time() - start_time))\n",
    "    q=cv2.waitKey(1)\n",
    "    if q == 27:\n",
    "        cv2.destroyAllWindows()\n",
    "        break\n",
    "cv2.destroyAllWindows()"
   ]
  },
  {
   "cell_type": "code",
   "execution_count": null,
   "metadata": {
    "collapsed": true
   },
   "outputs": [],
   "source": []
  },
  {
   "cell_type": "code",
   "execution_count": null,
   "metadata": {
    "collapsed": true
   },
   "outputs": [],
   "source": []
  }
 ],
 "metadata": {
  "kernelspec": {
   "display_name": "Python 3",
   "language": "python",
   "name": "python3"
  },
  "language_info": {
   "codemirror_mode": {
    "name": "ipython",
    "version": 3
   },
   "file_extension": ".py",
   "mimetype": "text/x-python",
   "name": "python",
   "nbconvert_exporter": "python",
   "pygments_lexer": "ipython3",
   "version": "3.6.2"
  }
 },
 "nbformat": 4,
 "nbformat_minor": 2
}
