{
 "cells": [
  {
   "cell_type": "code",
   "execution_count": 1,
   "metadata": {
    "collapsed": true
   },
   "outputs": [],
   "source": [
    "import numpy as np\n",
    "import cv2\n",
    "import time\n",
    "import threading"
   ]
  },
  {
   "cell_type": "code",
   "execution_count": 2,
   "metadata": {
    "collapsed": true
   },
   "outputs": [],
   "source": [
    "farpx = 340\n",
    "farpy = 240*0.95"
   ]
  },
  {
   "cell_type": "code",
   "execution_count": 3,
   "metadata": {
    "collapsed": true
   },
   "outputs": [],
   "source": [
    "def dist(pos):\n",
    "    ind = (480-pos[1])*2\n",
    "    return ind"
   ]
  },
  {
   "cell_type": "code",
   "execution_count": 4,
   "metadata": {
    "collapsed": true
   },
   "outputs": [],
   "source": [
    "def speed(pos1,pos2):\n",
    "    spd = dist(pos2) - dist(pos1)\n",
    "    return spd"
   ]
  },
  {
   "cell_type": "code",
   "execution_count": 5,
   "metadata": {
    "collapsed": true
   },
   "outputs": [],
   "source": [
    "def dirct(pos1,pos2):\n",
    "    slp = (pos2[1] - pos1[1])/(pos2[0] - pos1[0])\n",
    "    return slp"
   ]
  },
  {
   "cell_type": "code",
   "execution_count": 6,
   "metadata": {
    "collapsed": true
   },
   "outputs": [],
   "source": [
    "vrec = cv2.VideoCapture('11.mp4',0)\n",
    "shape = [480,680]\n",
    "b = np.zeros((shape[0],shape[1]),np.uint8)\n",
    "c = np.zeros((shape[0],shape[1]),np.uint8)\n",
    "while True:\n",
    "    d = np.zeros((shape[0],shape[1]),np.uint8)\n",
    "    start_time = time.time()\n",
    "\n",
    "    ret , mask4 = vrec.read()\n",
    "    if not ret:\n",
    "        break\n",
    "    mask4 = cv2.resize(mask4, (680,480))\n",
    "    mask4 = cv2.cvtColor(mask4,cv2.COLOR_BGR2GRAY)\n",
    "    scr2 = mask4\n",
    "\n",
    "    \n",
    "#     d1 = mask4 - b\n",
    "#     d2 = b - c  \n",
    "#     cv2.imshow('d1',d1)\n",
    "#     cv2.imshow('d2',d2)\n",
    "    cv2.imshow('scr1',mask4)\n",
    "#     c=b\n",
    "#     b=mask4\n",
    "    \n",
    "    mask4 = np.uint8(mask4)\n",
    "    im2, contours, hierarchy = cv2.findContours(mask4, cv2.RETR_TREE, cv2.CHAIN_APPROX_SIMPLE)\n",
    "    \n",
    "#     im3, newcontours, newhierarchy = cv2.findContours(mask4, cv2.RETR_TREE, cv2.CHAIN_APPROX_SIMPLE)\n",
    "#     scr1 = cv2.drawContours(scr1, newcontours, -1, (0,255,255), 3)\n",
    "#     cv2.imshow('scr1',scr1)\n",
    "    \n",
    "    ncont=len(contours)\n",
    "    for i in range(ncont):\n",
    "        if(True):\n",
    "            epsilon = 0.003*cv2.arcLength(contours[i], True)\n",
    "            contours[i] = cv2.approxPolyDP(contours[i], epsilon, True)\n",
    "        \n",
    "\n",
    "    \n",
    "    d = cv2.drawContours(d, contours, -1, (255,0,0), 1)    \n",
    "    \n",
    "    \n",
    "    cv2.line(d,(0,480),(340,int(240*0.95)),(255,255,255),2)\n",
    "    cv2.line(d,(680,480),(340,int(240*0.95)),(255,255,255),2)\n",
    "    cv2.line(d,(0,int(240*0.95)),(680,int(240*0.95)),(255,255,255),2)\n",
    "#     cv2.imshow('scr2',scr2)\n",
    "#     cv2.imshow('band4',mask4)\n",
    "    cv2.imshow('d',d)\n",
    "\n",
    "\n",
    "#     print(\"FPS: \", 1.0 / (time.time() - start_time))\n",
    "    q=cv2.waitKey(1)\n",
    "\n",
    "    if q==27:\n",
    "        cv2.destroyAllWindows()\n",
    "        break;\n",
    "cv2.destroyAllWindows()"
   ]
  },
  {
   "cell_type": "code",
   "execution_count": null,
   "metadata": {
    "collapsed": true
   },
   "outputs": [],
   "source": []
  },
  {
   "cell_type": "code",
   "execution_count": null,
   "metadata": {
    "collapsed": true
   },
   "outputs": [],
   "source": []
  },
  {
   "cell_type": "code",
   "execution_count": null,
   "metadata": {
    "collapsed": true
   },
   "outputs": [],
   "source": []
  },
  {
   "cell_type": "code",
   "execution_count": null,
   "metadata": {
    "collapsed": true
   },
   "outputs": [],
   "source": [
    "###all are treated as obstacles, no seprate boundaries or dividers\n",
    "\n",
    "##module 1\n",
    "#input: speed slope pixel priority\n",
    "#predict next location rnn \n",
    "#output: impact factors (safe-layers and epicenter)\n",
    "\n",
    "#module 2\n",
    "#input: impact factors\n",
    "#final output: fwd, brake, left, right, fwdleft, fwdright\n",
    "\n",
    "\n",
    "#module 3\n",
    "# dist obst\n",
    "#output: speed fwd speed control"
   ]
  },
  {
   "cell_type": "code",
   "execution_count": 9,
   "metadata": {
    "collapsed": true
   },
   "outputs": [],
   "source": [
    "import random\n",
    "obst = [[[30,30],[40,40]],[[10,0],[0,10]],[[400,500],[410,502]],[[100,300],[108,298]],[[108,300],[100,298]],\n",
    "        [[58,40],[50,47]],[[200,400],[210,410]],[[240,245],[245,250]],[[330,120],[340,110]]]"
   ]
  },
  {
   "cell_type": "code",
   "execution_count": 11,
   "metadata": {
    "collapsed": true
   },
   "outputs": [],
   "source": [
    "import cv2\n",
    "import math\n",
    "import numpy as np\n",
    "import itertools\n",
    "\n",
    "blank = cv2.imread('blank.png',0)\n",
    "blank = cv2.resize(blank,(680,480))\n",
    "# blank = cv2.cvtColor(blank,cv2.COLOR_BGR2GRAY)\n",
    "\n",
    "for a,b in obst:\n",
    "    dx = (b[0] - a[0])\n",
    "    dy = (b[1] - a[1])\n",
    "    dist = int(math.sqrt( dy**2 + dx**2 ))\n",
    "    x,y = int(((a[0]+b[0])/2)),int((a[1]+b[1])/2)\n",
    "    slp = math.degrees(dy/dx)\n",
    "    #center, mj,mn,,agl,agl,color,fill\n",
    "    cv2.ellipse(blank,(x,y),(6*dist,6*dist),0,0,360,100,-1)\n",
    "    cv2.ellipse(blank,(x,y),(4*dist,3*dist),slp,0,360,50,-1)\n",
    "    cv2.ellipse(blank,(x,y),(2*dist,1*dist),slp,0,360,0,-1)\n",
    "    cv2.line(blank,(a[0],a[1]),(b[0],b[1]),255,3)\n",
    "cv2.imshow('blank',blank)\n",
    "q = cv2.waitKey(1)\n",
    "if q == 27:\n",
    "    cv2.destroyAllWindows()"
   ]
  },
  {
   "cell_type": "code",
   "execution_count": 12,
   "metadata": {},
   "outputs": [
    {
     "ename": "TypeError",
     "evalue": "'int' object is not callable",
     "output_type": "error",
     "traceback": [
      "\u001b[0;31m---------------------------------------------------------------------------\u001b[0m",
      "\u001b[0;31mTypeError\u001b[0m                                 Traceback (most recent call last)",
      "\u001b[0;32m<ipython-input-12-9d6589bb14b2>\u001b[0m in \u001b[0;36m<module>\u001b[0;34m()\u001b[0m\n\u001b[1;32m      2\u001b[0m     \u001b[0;32mfor\u001b[0m \u001b[0mpiy\u001b[0m \u001b[0;32min\u001b[0m \u001b[0mrange\u001b[0m\u001b[0;34m(\u001b[0m\u001b[0;36m680\u001b[0m\u001b[0;34m)\u001b[0m\u001b[0;34m:\u001b[0m\u001b[0;34m\u001b[0m\u001b[0m\n\u001b[1;32m      3\u001b[0m \u001b[0;34m\u001b[0m\u001b[0m\n\u001b[0;32m----> 4\u001b[0;31m         \u001b[0mblank\u001b[0m\u001b[0;34m[\u001b[0m\u001b[0mpix\u001b[0m\u001b[0;34m]\u001b[0m\u001b[0;34m[\u001b[0m\u001b[0mpiy\u001b[0m\u001b[0;34m]\u001b[0m \u001b[0;34m=\u001b[0m \u001b[0mdist\u001b[0m\u001b[0;34m(\u001b[0m\u001b[0mpix\u001b[0m\u001b[0;34m,\u001b[0m\u001b[0mpiy\u001b[0m\u001b[0;34m)\u001b[0m\u001b[0;34m\u001b[0m\u001b[0m\n\u001b[0m",
      "\u001b[0;31mTypeError\u001b[0m: 'int' object is not callable"
     ]
    }
   ],
   "source": [
    "for pix in range(480):\n",
    "    for piy in range(680):\n",
    "        \n",
    "        blank[pix][piy] = dist(pix,piy)"
   ]
  },
  {
   "cell_type": "code",
   "execution_count": 15,
   "metadata": {},
   "outputs": [
    {
     "name": "stdout",
     "output_type": "stream",
     "text": [
      "Test client sending packets to IP 127.0.0.1, via port 7000\n",
      "\n"
     ]
    },
    {
     "ename": "KeyboardInterrupt",
     "evalue": "",
     "output_type": "error",
     "traceback": [
      "\u001b[0;31m---------------------------------------------------------------------------\u001b[0m",
      "\u001b[0;31mKeyboardInterrupt\u001b[0m                         Traceback (most recent call last)",
      "\u001b[0;32m<ipython-input-15-5ccc06a888ba>\u001b[0m in \u001b[0;36m<module>\u001b[0;34m()\u001b[0m\n\u001b[1;32m     10\u001b[0m \u001b[0;34m\u001b[0m\u001b[0m\n\u001b[1;32m     11\u001b[0m \u001b[0;32mwhile\u001b[0m \u001b[0;32mTrue\u001b[0m\u001b[0;34m:\u001b[0m\u001b[0;34m\u001b[0m\u001b[0m\n\u001b[0;32m---> 12\u001b[0;31m         \u001b[0mmySocket\u001b[0m\u001b[0;34m.\u001b[0m\u001b[0msendto\u001b[0m\u001b[0;34m(\u001b[0m\u001b[0;34mb'cool'\u001b[0m\u001b[0;34m,\u001b[0m\u001b[0;34m(\u001b[0m\u001b[0mSERVER_IP\u001b[0m\u001b[0;34m,\u001b[0m\u001b[0mPORT_NUMBER\u001b[0m\u001b[0;34m)\u001b[0m\u001b[0;34m)\u001b[0m\u001b[0;34m\u001b[0m\u001b[0m\n\u001b[0m\u001b[1;32m     13\u001b[0m \u001b[0msys\u001b[0m\u001b[0;34m.\u001b[0m\u001b[0mexit\u001b[0m\u001b[0;34m(\u001b[0m\u001b[0;34m)\u001b[0m\u001b[0;34m\u001b[0m\u001b[0m\n",
      "\u001b[0;31mKeyboardInterrupt\u001b[0m: "
     ]
    }
   ],
   "source": [
    "import sys\n",
    "from socket import socket, AF_INET, SOCK_DGRAM\n",
    "\n",
    "SERVER_IP   = '127.0.0.1'\n",
    "PORT_NUMBER = 7000\n",
    "SIZE = 1024\n",
    "print (\"Test client sending packets to IP {0}, via port {1}\\n\".format(SERVER_IP, PORT_NUMBER))\n",
    "\n",
    "mySocket = socket( AF_INET, SOCK_DGRAM )\n",
    "\n",
    "while True:\n",
    "        mySocket.sendto(b'cool',(SERVER_IP,PORT_NUMBER))\n",
    "sys.exit()\n"
   ]
  },
  {
   "cell_type": "code",
   "execution_count": null,
   "metadata": {
    "collapsed": true
   },
   "outputs": [],
   "source": []
  }
 ],
 "metadata": {
  "kernelspec": {
   "display_name": "Python 3",
   "language": "python",
   "name": "python3"
  },
  "language_info": {
   "codemirror_mode": {
    "name": "ipython",
    "version": 3
   },
   "file_extension": ".py",
   "mimetype": "text/x-python",
   "name": "python",
   "nbconvert_exporter": "python",
   "pygments_lexer": "ipython3",
   "version": "3.6.2"
  }
 },
 "nbformat": 4,
 "nbformat_minor": 2
}
