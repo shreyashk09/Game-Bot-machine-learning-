{
 "cells": [
  {
   "cell_type": "code",
   "execution_count": 2,
   "metadata": {
    "collapsed": true
   },
   "outputs": [],
   "source": [
    "import numpy as np\n",
    "import cv2\n",
    "import threading"
   ]
  },
  {
   "cell_type": "code",
   "execution_count": 6,
   "metadata": {},
   "outputs": [],
   "source": [
    "vrec = cv2.VideoCapture('v4.mp4',0)\n",
    "shape = [480,680]\n",
    "b = np.zeros((shape[0],shape[1],3),np.uint8)\n",
    "c = np.zeros((shape[0],shape[1],3),np.uint8)\n",
    "while True:\n",
    "    ret , a = vrec.read()\n",
    "    a = cv2.resize(a, (680,480)) \n",
    "#     ret , scr2 = vrec.read()\n",
    "#     ret , scr3 = vrec.read()\n",
    "#     ret , scr4 = vrec.read()\n",
    "    \n",
    "    d1 = a - b\n",
    "    d2 = b - c\n",
    "    \n",
    "    if not ret:\n",
    "        break\n",
    "    \n",
    "    cv2.imshow('d1',d1)\n",
    "    cv2.imshow('d2',d2)\n",
    "    cv2.imshow('scr1',a)\n",
    "    c=b\n",
    "    b=a\n",
    "    q = cv2.waitKey(1)\n",
    "    if q==27:\n",
    "        cv2.destroyAllWindows()\n",
    "        break;\n",
    "cv2.destroyAllWindows()"
   ]
  },
  {
   "cell_type": "code",
   "execution_count": null,
   "metadata": {
    "collapsed": true
   },
   "outputs": [],
   "source": [
    "###all are treated as obstacles, no seprate boundaries or dividers\n",
    "\n",
    "##module 1\n",
    "#input: speed slope pixel priority\n",
    "#predict next location rnn \n",
    "#output: impact factors\n",
    "\n",
    "#module 2\n",
    "#input: impact factors\n",
    "#final output: fwd, brake, left, right, fwdleft, fwdright\n",
    "\n",
    "\n",
    "#module 3\n",
    "# dist obst\n",
    "#output: speed fwd speed control"
   ]
  }
 ],
 "metadata": {
  "kernelspec": {
   "display_name": "Python 3",
   "language": "python",
   "name": "python3"
  },
  "language_info": {
   "codemirror_mode": {
    "name": "ipython",
    "version": 3
   },
   "file_extension": ".py",
   "mimetype": "text/x-python",
   "name": "python",
   "nbconvert_exporter": "python",
   "pygments_lexer": "ipython3",
   "version": "3.6.2"
  }
 },
 "nbformat": 4,
 "nbformat_minor": 2
}
