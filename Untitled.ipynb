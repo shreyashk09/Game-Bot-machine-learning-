{
 "cells": [
  {
   "cell_type": "code",
   "execution_count": 6,
   "metadata": {
    "collapsed": true
   },
   "outputs": [],
   "source": [
    "import numpy as np\n",
    "import cv2\n",
    "import time\n",
    "import threading"
   ]
  },
  {
   "cell_type": "code",
   "execution_count": 2,
   "metadata": {
    "collapsed": true
   },
   "outputs": [],
   "source": [
    "farpx = 340\n",
    "farpy = 240*0.95"
   ]
  },
  {
   "cell_type": "code",
   "execution_count": 8,
   "metadata": {},
   "outputs": [],
   "source": [
    "def dist(pos):\n",
    "    ind = (480-pos[1])*2\n",
    "    return ind"
   ]
  },
  {
   "cell_type": "code",
   "execution_count": 9,
   "metadata": {
    "collapsed": true
   },
   "outputs": [],
   "source": [
    "def speed(pos1,pos2):\n",
    "    spd = dist(pos2) - dist(pos1)\n",
    "    return spd"
   ]
  },
  {
   "cell_type": "code",
   "execution_count": 10,
   "metadata": {
    "collapsed": true
   },
   "outputs": [],
   "source": [
    "def dirct(pos1,pos2):\n",
    "    slp = (pos2[1] - pos1[1])/(pos2[0] - pos1[0])\n",
    "    return slp"
   ]
  },
  {
   "cell_type": "code",
   "execution_count": 4,
   "metadata": {
    "collapsed": true
   },
   "outputs": [],
   "source": [
    "vrec = cv2.VideoCapture('11.mp4',0)\n",
    "shape = [480,680]\n",
    "b = np.zeros((shape[0],shape[1]),np.uint8)\n",
    "c = np.zeros((shape[0],shape[1]),np.uint8)\n",
    "while True:\n",
    "    d = np.zeros((shape[0],shape[1]),np.uint8)\n",
    "    start_time = time.time()\n",
    "#     ret , scr = \n",
    "    ret , mask4 = vrec.read()\n",
    "    if not ret:\n",
    "        break\n",
    "    mask4 = cv2.resize(mask4, (680,480))\n",
    "    mask4 = cv2.cvtColor(mask4,cv2.COLOR_BGR2GRAY)\n",
    "    scr2 = mask4\n",
    "\n",
    "    \n",
    "    d1 = mask4 - b\n",
    "    d2 = b - c\n",
    "    \n",
    "\n",
    "    \n",
    "#     cv2.imshow('d1',d1)\n",
    "#     cv2.imshow('d2',d2)\n",
    "    cv2.imshow('scr1',mask4)\n",
    "    c=b\n",
    "    b=mask4\n",
    "    \n",
    "    mask4 = np.uint8(mask4)\n",
    "    im2, contours, hierarchy = cv2.findContours(mask4, cv2.RETR_TREE, cv2.CHAIN_APPROX_SIMPLE)\n",
    "    \n",
    "#     im3, newcontours, newhierarchy = cv2.findContours(mask4, cv2.RETR_TREE, cv2.CHAIN_APPROX_SIMPLE)\n",
    "#     scr1 = cv2.drawContours(scr1, newcontours, -1, (0,255,255), 3)\n",
    "#     cv2.imshow('scr1',scr1)\n",
    "    \n",
    "    ncont=len(contours)\n",
    "    for i in range(ncont):\n",
    "        if(True):\n",
    "            epsilon = 0.003*cv2.arcLength(contours[i], True)\n",
    "            contours[i] = cv2.approxPolyDP(contours[i], epsilon, True)\n",
    "        \n",
    "\n",
    "    \n",
    "    d = cv2.drawContours(d, contours, -1, (255,0,0), 1)    \n",
    "    \n",
    "    \n",
    "    cv2.line(d,(0,480),(340,int(240*0.95)),(255,255,255),2)\n",
    "    cv2.line(d,(680,480),(340,int(240*0.95)),(255,255,255),2)\n",
    "    cv2.line(d,(0,int(240*0.95)),(680,int(240*0.95)),(255,255,255),2)\n",
    "#     cv2.imshow('scr2',scr2)\n",
    "#     cv2.imshow('band4',mask4)\n",
    "    cv2.imshow('d',d)\n",
    "\n",
    "\n",
    "#     print(\"FPS: \", 1.0 / (time.time() - start_time))\n",
    "    q=cv2.waitKey(1)\n",
    "\n",
    "    if q==27:\n",
    "        cv2.destroyAllWindows()\n",
    "        break;\n",
    "cv2.destroyAllWindows()"
   ]
  },
  {
   "cell_type": "code",
   "execution_count": null,
   "metadata": {
    "collapsed": true
   },
   "outputs": [],
   "source": [
    "###all are treated as obstacles, no seprate boundaries or dividers\n",
    "\n",
    "##module 1\n",
    "#input: speed slope pixel priority\n",
    "#predict next location rnn \n",
    "#output: impact factors (safe-layers and epicenter)\n",
    "\n",
    "#module 2\n",
    "#input: impact factors\n",
    "#final output: fwd, brake, left, right, fwdleft, fwdright\n",
    "\n",
    "\n",
    "#module 3\n",
    "# dist obst\n",
    "#output: speed fwd speed control"
   ]
  },
  {
   "cell_type": "code",
   "execution_count": 7,
   "metadata": {},
   "outputs": [
    {
     "data": {
      "text/plain": [
       "True"
      ]
     },
     "execution_count": 7,
     "metadata": {},
     "output_type": "execute_result"
    }
   ],
   "source": [
    "scr = cv2.imread('dist3.png',1)\n",
    "scr = cv2.resize(scr, (680,480)) \n",
    "cv2.imshow('dist',scr)\n",
    "cv2.imwrite('messigray1.png',scr)"
   ]
  },
  {
   "cell_type": "code",
   "execution_count": null,
   "metadata": {
    "collapsed": true
   },
   "outputs": [],
   "source": []
  },
  {
   "cell_type": "code",
   "execution_count": 228,
   "metadata": {
    "collapsed": true
   },
   "outputs": [],
   "source": [
    "##nodes with values....connected diagonally, sidewise(i,j->i+1,j;i-1,j;i,j+1;i,j-1;i+1,j+1,i-1,j+1;(8)).....\n",
    "\n",
    "##dist:value, parent, lclv(G), glbv(F=G+H), "
   ]
  },
  {
   "cell_type": "code",
   "execution_count": 240,
   "metadata": {},
   "outputs": [],
   "source": [
    "import random\n",
    "targ = 0\n",
    "shape = [20,20]\n",
    "close = [[0 for i in range(shape[1])] for j in range(shape[0])]\n",
    "start = [19,10]\n",
    "val = [[random.randint(1, 255) for i in range(shape[1])]for j in range(shape[0])]\n",
    "gval = [[500 for i in range(shape[1])]for j in range(shape[0])]\n",
    "hval = [[i for i in range(shape[1])]for j in range(shape[0])]\n",
    "fval = [[1000 for i in range(shape[1])]for j in range(shape[0])]\n",
    "target = [[0,x] for x in range(shape[1])]\n",
    "parent = [[0 for i in range(shape[1])]for j in range(shape[0])]"
   ]
  },
  {
   "cell_type": "code",
   "execution_count": 241,
   "metadata": {},
   "outputs": [],
   "source": [
    "def neigh(pos):\n",
    "    ngh = []\n",
    "    if(pos[1]<=1 or pos[1]>=shape[1]-2):\n",
    "        return ngh\n",
    "#     ngh.append([pos[0], pos[1]+1])\n",
    "#     ngh.append([pos[0],pos[1]-1])\n",
    "    ngh.append([pos[0]-1,pos[1]])\n",
    "    ngh.append([pos[0]-1,pos[1]+1])\n",
    "    ngh.append([pos[0]-1, pos[1]-1])\n",
    "    return ngh\n",
    "def cost(par,child):\n",
    "    return (val[child[0]][child[1]] - val[par[0]][par[1]])"
   ]
  },
  {
   "cell_type": "code",
   "execution_count": 242,
   "metadata": {
    "collapsed": true
   },
   "outputs": [],
   "source": [
    "def derive(node):\n",
    "    print(node,\"->\",end = \" \")\n",
    "    while node!=start and node!=0:\n",
    "        node = parent[node[0]][node[1]]\n",
    "        print(node,\"->\",end=\" \")"
   ]
  },
  {
   "cell_type": "code",
   "execution_count": 243,
   "metadata": {},
   "outputs": [],
   "source": [
    "def path(node):\n",
    "    if node in target:\n",
    "        derive(node)\n",
    "        print(\"target\")\n",
    "        return\n",
    "    fsort = []\n",
    "    nsort=[]\n",
    "    neighlist = neigh(node)\n",
    "    close[node[0]][node[1]] = 1\n",
    "    if len(neighlist) == 0:\n",
    "        return\n",
    "    for ngh in neighlist: \n",
    "        cst = cost(node,ngh)\n",
    "        if (close[ngh[0]][ngh[1]]==0):\n",
    "            if cst + gval[node[0]][node[1]] < gval[ngh[0]][ngh[1]] :\n",
    "                gval[ngh[0]][ngh[1]] = cst + gval[node[0]][node[1]]\n",
    "                parent[ngh[0]][ngh[1]] = node\n",
    "            fval[ngh[0]][ngh[1]] = hval[ngh[0]][ngh[1]] + gval[ngh[0]][ngh[1]]\n",
    "            fsort.append(fval[ngh[0]][ngh[1]])\n",
    "            nsort.append(ngh)\n",
    "    srt = [x for _,x in sorted(zip(fsort,nsort))]\n",
    "    \n",
    "    for nd in srt:\n",
    "            path(nd)"
   ]
  },
  {
   "cell_type": "code",
   "execution_count": 244,
   "metadata": {
    "scrolled": false
   },
   "outputs": [
    {
     "name": "stdout",
     "output_type": "stream",
     "text": [
      "[0, 5] -> [1, 5] -> [2, 4] -> [3, 3] -> [4, 4] -> [5, 3] -> [6, 3] -> [7, 4] -> [8, 4] -> [9, 5] -> [10, 6] -> [11, 7] -> [12, 8] -> [13, 8] -> [14, 8] -> [15, 8] -> 0 -> target\n",
      "[0, 6] -> [1, 5] -> [2, 4] -> [3, 3] -> [4, 4] -> [5, 3] -> [6, 3] -> [7, 4] -> [8, 4] -> [9, 5] -> [10, 6] -> [11, 7] -> [12, 8] -> [13, 8] -> [14, 8] -> [15, 8] -> 0 -> target\n",
      "[0, 4] -> 0 -> target\n",
      "[0, 3] -> [1, 3] -> [2, 4] -> [3, 3] -> [4, 4] -> [5, 3] -> [6, 3] -> [7, 4] -> [8, 4] -> [9, 5] -> [10, 6] -> [11, 7] -> [12, 8] -> [13, 8] -> [14, 8] -> [15, 8] -> 0 -> target\n",
      "[0, 2] -> [1, 3] -> [2, 4] -> [3, 3] -> [4, 4] -> [5, 3] -> [6, 3] -> [7, 4] -> [8, 4] -> [9, 5] -> [10, 6] -> [11, 7] -> [12, 8] -> [13, 8] -> [14, 8] -> [15, 8] -> 0 -> target\n",
      "[0, 4] -> 0 -> target\n",
      "[0, 5] -> [1, 4] -> 0 -> target\n",
      "[0, 3] -> [1, 4] -> 0 -> target\n",
      "[0, 4] -> [1, 4] -> 0 -> target\n",
      "[0, 3] -> [1, 4] -> 0 -> target\n",
      "[0, 2] -> [1, 3] -> [2, 4] -> [3, 3] -> [4, 4] -> [5, 3] -> [6, 3] -> [7, 4] -> [8, 4] -> [9, 5] -> [10, 6] -> [11, 7] -> [12, 8] -> [13, 8] -> [14, 8] -> [15, 8] -> 0 -> target\n",
      "[0, 1] -> [1, 2] -> [2, 3] -> [3, 3] -> [4, 4] -> [5, 3] -> [6, 3] -> [7, 4] -> [8, 4] -> [9, 5] -> [10, 6] -> [11, 7] -> [12, 8] -> [13, 8] -> [14, 8] -> [15, 8] -> 0 -> target\n",
      "[0, 5] -> [1, 4] -> 0 -> target\n",
      "[0, 7] -> [1, 6] -> [2, 5] -> [3, 4] -> 0 -> target\n",
      "[0, 6] -> [1, 6] -> [2, 5] -> [3, 4] -> 0 -> target\n",
      "[0, 8] -> [1, 7] -> [2, 6] -> [3, 5] -> 0 -> target\n",
      "[0, 7] -> [1, 6] -> [2, 5] -> [3, 4] -> 0 -> target\n",
      "[0, 6] -> [1, 6] -> [2, 5] -> [3, 4] -> 0 -> target\n",
      "[0, 8] -> [1, 7] -> [2, 6] -> [3, 5] -> 0 -> target\n",
      "[0, 7] -> [1, 6] -> [2, 5] -> [3, 4] -> 0 -> target\n",
      "[0, 9] -> [1, 8] -> [2, 7] -> [3, 6] -> [4, 5] -> [5, 4] -> 0 -> target\n",
      "[0, 8] -> [1, 9] -> 0 -> target\n",
      "[0, 9] -> [1, 9] -> 0 -> target\n",
      "[0, 10] -> [1, 9] -> 0 -> target\n",
      "[0, 9] -> [1, 10] -> [2, 9] -> [3, 8] -> 0 -> target\n",
      "[0, 11] -> [1, 10] -> [2, 9] -> [3, 8] -> 0 -> target\n",
      "[0, 10] -> [1, 10] -> [2, 9] -> [3, 8] -> 0 -> target\n",
      "[0, 11] -> [1, 10] -> [2, 9] -> [3, 8] -> 0 -> target\n",
      "[0, 10] -> [1, 10] -> [2, 9] -> [3, 8] -> 0 -> target\n",
      "[0, 12] -> [1, 11] -> [2, 10] -> [3, 9] -> [4, 8] -> [5, 7] -> [6, 6] -> 0 -> target\n",
      "[0, 11] -> [1, 12] -> 0 -> target\n",
      "[0, 12] -> [1, 12] -> 0 -> target\n",
      "[0, 13] -> [1, 12] -> 0 -> target\n",
      "[0, 12] -> [1, 12] -> 0 -> target\n",
      "[0, 13] -> [1, 12] -> 0 -> target\n",
      "[0, 14] -> 0 -> target\n",
      "[0, 15] -> [1, 14] -> [2, 13] -> [3, 12] -> [4, 11] -> [5, 10] -> [6, 9] -> [7, 8] -> 0 -> target\n",
      "[0, 13] -> [1, 12] -> 0 -> target\n",
      "[0, 14] -> 0 -> target\n",
      "[0, 16] -> [1, 15] -> [2, 14] -> [3, 13] -> [4, 12] -> [5, 11] -> [6, 10] -> [7, 9] -> 0 -> target\n",
      "[0, 15] -> [1, 15] -> [2, 14] -> [3, 13] -> [4, 12] -> [5, 11] -> [6, 10] -> [7, 9] -> 0 -> target\n",
      "[0, 14] -> 0 -> target\n",
      "[0, 17] -> [1, 16] -> [2, 15] -> 0 -> target\n",
      "[0, 16] -> [1, 15] -> [2, 14] -> [3, 13] -> [4, 12] -> [5, 11] -> [6, 10] -> [7, 9] -> 0 -> target\n",
      "[0, 15] -> [1, 15] -> [2, 14] -> [3, 13] -> [4, 12] -> [5, 11] -> [6, 10] -> [7, 9] -> 0 -> target\n",
      "[0, 17] -> [1, 16] -> [2, 15] -> 0 -> target\n",
      "[0, 16] -> [1, 15] -> [2, 14] -> [3, 13] -> [4, 12] -> [5, 11] -> [6, 10] -> [7, 9] -> 0 -> target\n",
      "[0, 18] -> [1, 17] -> [2, 16] -> [3, 15] -> [4, 14] -> [5, 13] -> 0 -> target\n"
     ]
    }
   ],
   "source": [
    "path(start)"
   ]
  },
  {
   "cell_type": "code",
   "execution_count": 245,
   "metadata": {},
   "outputs": [],
   "source": [
    "import numpy as np\n",
    "import cv2\n",
    "# cv2.destroyAllWindows()\n",
    "pth = np.zeros((shape[0],shape[1]),np.uint8)\n",
    "img = np.zeros((shape[0],shape[1]),np.uint8)\n",
    "for i in range(shape[0]):\n",
    "    for j in range(shape[1]):\n",
    "        if(close[i][j]):\n",
    "#             print(i,j)\n",
    "            pth[i,j]=255 \n",
    "            img[i,j]=val[i][j]\n",
    "# print(pth.shape)\n",
    "cv2.imshow(\"pth3\",pth)\n",
    "cv2.imshow(\"val\",img)\n",
    "q=cv2.waitKey(1)\n",
    "if q==27:\n",
    "    cv2.destroyAllWindows()"
   ]
  },
  {
   "cell_type": "code",
   "execution_count": 222,
   "metadata": {},
   "outputs": [
    {
     "name": "stdout",
     "output_type": "stream",
     "text": [
      "[[99, 56, 53, 16, 44, 227, 158, 152, 84, 47, 8, 24, 25, 216, 52, 75, 249, 58, 92, 7], [136, 69, 29, 106, 6, 37, 216, 207, 235, 98, 108, 109, 127, 9, 170, 185, 201, 142, 145, 173], [30, 106, 210, 229, 152, 155, 45, 116, 132, 128, 103, 224, 239, 141, 103, 26, 94, 101, 67, 177], [246, 140, 44, 41, 171, 250, 134, 249, 156, 61, 9, 116, 42, 112, 200, 126, 109, 199, 147, 250], [146, 122, 125, 134, 195, 98, 154, 107, 23, 134, 155, 98, 73, 242, 109, 27, 92, 141, 101, 152], [189, 151, 117, 116, 217, 113, 222, 241, 246, 119, 170, 206, 232, 78, 111, 201, 239, 158, 20, 192], [55, 24, 127, 69, 111, 104, 112, 160, 197, 136, 60, 102, 169, 241, 63, 93, 177, 237, 43, 109], [244, 186, 7, 112, 131, 30, 42, 92, 107, 54, 65, 58, 16, 191, 196, 181, 103, 87, 180, 130], [28, 77, 124, 170, 17, 140, 21, 25, 138, 9, 117, 158, 5, 190, 7, 206, 185, 197, 28, 73], [243, 10, 8, 184, 60, 28, 226, 136, 66, 4, 240, 144, 208, 51, 155, 202, 202, 109, 87, 143], [193, 59, 198, 65, 181, 198, 180, 211, 25, 231, 48, 56, 206, 11, 171, 109, 134, 205, 21, 180], [215, 160, 72, 97, 90, 213, 146, 233, 250, 230, 223, 35, 249, 152, 148, 183, 2, 55, 95, 10], [16, 46, 95, 141, 62, 61, 171, 180, 58, 51, 94, 41, 84, 215, 231, 128, 56, 190, 84, 30], [218, 80, 5, 107, 232, 153, 175, 94, 198, 173, 17, 227, 205, 228, 201, 59, 194, 165, 225, 49], [240, 124, 152, 76, 5, 109, 24, 166, 232, 182, 88, 23, 124, 119, 251, 193, 77, 189, 48, 15], [243, 1, 166, 22, 8, 154, 201, 58, 79, 31, 157, 156, 122, 62, 132, 213, 73, 208, 72, 37], [100, 79, 146, 234, 6, 142, 170, 94, 97, 92, 10, 170, 199, 35, 139, 102, 137, 125, 66, 184], [156, 51, 7, 195, 78, 29, 184, 20, 31, 244, 10, 83, 102, 82, 180, 29, 195, 135, 16, 128], [233, 249, 253, 217, 47, 118, 203, 65, 241, 228, 220, 126, 171, 226, 84, 124, 174, 161, 74, 229], [76, 216, 180, 48, 211, 84, 1, 93, 49, 80, 64, 155, 43, 239, 93, 28, 226, 24, 15, 151]]\n"
     ]
    }
   ],
   "source": [
    "print(val)"
   ]
  },
  {
   "cell_type": "code",
   "execution_count": 204,
   "metadata": {},
   "outputs": [
    {
     "name": "stdout",
     "output_type": "stream",
     "text": [
      "[[0, 0, 0, 0, 0, 0, 0, 0, 0, 0, 0, 0, 0, 0, 0, 0, 0, 0, 0, 0], [0, 0, 0, 0, 0, 0, 0, 0, 0, 0, 0, 0, 0, 0, 0, 0, 0, 0, 0, 0], [0, 0, 0, 0, 0, 0, 0, 0, 0, 0, 0, 0, 0, 0, 0, 0, 0, 0, 0, 0], [0, 0, 0, 0, 0, 0, 0, 0, 0, 0, 0, 0, 0, 0, 0, 0, 0, 0, 0, 0], [0, 0, 0, 0, 0, 0, 0, 0, 0, 0, 0, 0, 0, 0, 0, 0, 0, 0, 0, 0], [0, 0, 0, 0, 0, 0, 0, 0, 0, 0, 0, 0, 0, 0, 0, 0, 0, 0, 0, 0], [0, 0, 0, 0, 0, 0, 0, 0, 0, 0, 0, 0, 0, 0, 0, 0, 0, 0, 0, 0], [0, 0, 0, 0, 0, 0, 0, 0, 0, 0, 0, 0, 0, 0, 0, 0, 0, 0, 0, 0], [0, 0, 0, 0, 0, 0, 0, 0, 0, 0, 0, 0, 0, 0, 0, 0, 0, 0, 0, 0], [0, 0, 0, 0, 0, 0, 0, 0, 0, 0, 0, 0, 0, 0, 0, 0, 0, 0, 0, 0], [0, 0, 0, 0, 0, 0, 0, 0, 0, 0, 1, 0, 0, 0, 0, 0, 0, 0, 0, 0], [0, 0, 0, 0, 0, 0, 0, 0, 0, 0, 0, 0, 0, 0, 0, 0, 0, 0, 0, 0], [0, 0, 0, 0, 0, 0, 0, 0, 0, 0, 0, 0, 0, 0, 0, 0, 0, 0, 0, 0], [0, 0, 0, 0, 0, 0, 0, 0, 0, 0, 0, 0, 0, 0, 0, 0, 0, 0, 0, 0], [0, 0, 0, 0, 0, 0, 0, 0, 0, 0, 0, 0, 0, 0, 0, 0, 0, 0, 0, 0], [0, 0, 0, 0, 0, 0, 0, 0, 0, 0, 0, 0, 0, 0, 0, 0, 0, 0, 0, 0], [0, 0, 0, 0, 0, 0, 0, 0, 0, 0, 0, 0, 0, 0, 0, 0, 0, 0, 0, 0], [0, 0, 0, 0, 0, 0, 0, 0, 0, 0, 0, 0, 0, 0, 0, 0, 0, 0, 0, 0], [0, 0, 0, 0, 0, 0, 0, 0, 0, 0, 0, 0, 0, 0, 0, 0, 0, 0, 0, 0], [0, 0, 0, 0, 0, 0, 0, 0, 0, 0, 0, 0, 0, 0, 0, 0, 0, 0, 0, 0]]\n",
      "0 0 0 0 0 0 0 0\n"
     ]
    }
   ],
   "source": [
    "comp = [[0 for i in range(20)] for j in range(20)]\n",
    "comp[10][10] = 1\n",
    "print(comp)\n",
    "print(comp[11][11],comp[11][9],comp[9][9],comp[9][11],comp[10][11],comp[10][9],comp[11][10],comp[9][10])"
   ]
  },
  {
   "cell_type": "code",
   "execution_count": 248,
   "metadata": {},
   "outputs": [
    {
     "data": {
      "text/plain": [
       "0"
      ]
     },
     "execution_count": 248,
     "metadata": {},
     "output_type": "execute_result"
    }
   ],
   "source": [
    "parent[1][4]"
   ]
  },
  {
   "cell_type": "code",
   "execution_count": null,
   "metadata": {
    "collapsed": true
   },
   "outputs": [],
   "source": []
  }
 ],
 "metadata": {
  "kernelspec": {
   "display_name": "Python 3",
   "language": "python",
   "name": "python3"
  },
  "language_info": {
   "codemirror_mode": {
    "name": "ipython",
    "version": 3
   },
   "file_extension": ".py",
   "mimetype": "text/x-python",
   "name": "python",
   "nbconvert_exporter": "python",
   "pygments_lexer": "ipython3",
   "version": "3.6.2"
  }
 },
 "nbformat": 4,
 "nbformat_minor": 2
}
