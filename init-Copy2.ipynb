{
 "cells": [
  {
   "cell_type": "code",
   "execution_count": 12,
   "metadata": {
    "collapsed": true
   },
   "outputs": [],
   "source": [
    "import numpy as np\n",
    "import pandas as pd\n",
    "import time\n",
    "import cv2"
   ]
  },
  {
   "cell_type": "code",
   "execution_count": 13,
   "metadata": {},
   "outputs": [],
   "source": [
    "# ker = np.array([[0,0,3,2,2,2,3,0,0],[0,2,3,5,5,5,3,2,0],[3,3,5,3,0,3,5,3,3],[2,5,3,-12,-23,-12,3,5,2],[2,5,0,-23,-40,-23,0,5,2],[2,5,3,-12,-23,-12,3,5,2],[3,3,5,3,0,3,5,3,3],[0,2,3,5,5,5,3,2,0],[0,0,3,2,2,2,3,0,0]])\n",
    "ker1 = []\n",
    "ker1=[[-x,-x,-x,-x,-x,-x,-x,-x,-x] for x in range(1,5)]\n",
    "x=0\n",
    "ker1.append([x,x,x,x,x,x,x,x,x])\n",
    "ker1=ker1+[[x,x,x,x,x,x,x,x,x] for x in range(4,0,-1)]\n",
    "ker1 = np.array(ker1)\n",
    "ker1.shape\n",
    "ker2 = ker1.transpose()\n",
    "thr = [y,y,y]\n",
    "newscr = np.zeros((shape[0],shape[1]),np.uint8)\n",
    "# s256 = np.zeros((9,9),np.uint8) + 255\n",
    "# print(s256)\n",
    "# cv2.imshow('ii',s256)\n",
    "# time.sleep(5)\n",
    "# q=cv2.waitKey(1)\n",
    "# if q == 27:\n",
    "#     cv2.destroyAllWindows()"
   ]
  },
  {
   "cell_type": "code",
   "execution_count": 14,
   "metadata": {
    "collapsed": true
   },
   "outputs": [],
   "source": [
    "# print(ker2)"
   ]
  },
  {
   "cell_type": "code",
   "execution_count": 15,
   "metadata": {
    "collapsed": true
   },
   "outputs": [],
   "source": [
    "# print(scr[mx-9:mx+1, my:my+9,0])\n",
    "# res = [scr[mx-9:mx+1, my:my+9,0]*ker2 ]\n",
    "# print(res)"
   ]
  },
  {
   "cell_type": "code",
   "execution_count": 16,
   "metadata": {
    "collapsed": true
   },
   "outputs": [],
   "source": [
    "def hor_rd():\n",
    "    for i in range(my,shape[1]-9,7):\n",
    "#         print(np.array(scr[mx-9:mx+1, i:i+9,0]).shape)\n",
    "        res1 = abs(np.array([np.sum(scr[mx-9:mx+1, i:i+9,j] * ker1) for j in range(3)]))\n",
    "        res2 = abs(np.array([np.sum(scr[mx-9:mx+1, i:i+9,j] * ker2) for j in range(3)]))\n",
    "#         print(res1,res2)\n",
    "#         print(\"hor\",i)\n",
    "        if((res1[0]>thr[0] or res1[1]>thr[1] or res1[2]>thr[2]) or (res2[0]>thr[0] or res2[1]>thr[1] or res2[2]>thr[2])):\n",
    "            newscr[mx-7:mx+1-2, i+2:i+9-2] = 0\n",
    "#             break\n",
    "        else:\n",
    "            \n",
    "            newscr[mx-9:mx+1, my+2:my+i] = 255\n",
    "            ver_rd(i)\n",
    "    for i in range(my,10, -7):\n",
    "        res1 = abs(np.array([np.sum(scr[mx-9:mx+1, i-9:i,j] * ker1) for j in range(3)]))\n",
    "        res2 = abs(np.array([np.sum(scr[mx-9:mx+1, i-9:i,j] * ker2) for j in range(3)]))\n",
    "#         print(\"hor\",i)\n",
    "        if((res1[0]>thr[0] or res1[1]>thr[1] or res1[2]>thr[2]) or (res2[0]>thr[0] or res2[1]>thr[1] or res2[2]>thr[2])):\n",
    "            newscr[mx-9+2:mx+1-2, i-9+2:i-2] = 0\n",
    "#             break\n",
    "        else:\n",
    "            newscr[mx-9:mx+1, i-9+2:i] = 255\n",
    "            ver_rd(i-9)"
   ]
  },
  {
   "cell_type": "code",
   "execution_count": 17,
   "metadata": {
    "collapsed": true
   },
   "outputs": [],
   "source": [
    "def ver_rd(x):\n",
    "    for i in range(mx,10,-7):\n",
    "        res1 = abs(np.array([np.sum(scr[i-9:i, x:x+9,j] * ker1) for j in range(3)]))\n",
    "        res2 = abs(np.array([np.sum(scr[i-9:i, x:x+9,j] * ker2) for j in range(3)]))\n",
    "#         print(\"ver\",i)\n",
    "        if((res1[0]>thr[0] or res1[1]>thr[1] or res1[2]>thr[2]) or (res2[0]>thr[0] or res2[1]>thr[1] or res2[2]>thr[2])):\n",
    "            newscr[i-9+2:i-2, x+2:x+9-2] = 0\n",
    "#             break\n",
    "        else:\n",
    "            newscr[i-9:i, x:x+9] = 255"
   ]
  },
  {
   "cell_type": "code",
   "execution_count": 20,
   "metadata": {},
   "outputs": [],
   "source": [
    "import numpy as np\n",
    "import pandas as pd\n",
    "import time\n",
    "import cv2\n",
    "cv2.destroyAllWindows()\n",
    "y=200\n",
    "lmd = 9\n",
    "kernel = np.ones((3,3),np.uint8)\n",
    "thr = [y,y,y]\n",
    "scr = cv2.imread('2.png')\n",
    "scr = cv2.resize(scr, (680,480)) \n",
    "shape = scr.shape\n",
    "mx = shape[0]\n",
    "my = shape[1]//2\n",
    "# print(shape,mx,my)\n",
    "scr = cv2.bilateralFilter(scr,70,30,100)\n",
    "# scr = cv2.cvtColor(blur, cv2.COLOR_BGR2HSV)\n",
    "hor_rd()\n",
    "# x,y,z = [np.mean(blur[440:480,200:480, i]) for i in range(3)]\n",
    "# a = np.mean(gray[440:480,200:480]) \n",
    "# # print(x,y,z)\n",
    "# low = np.uint8([x,y,z]) - 30\n",
    "# high = np.uint8([x,y,z]) + 30\n",
    "# mask = cv2.inRange(blur,low,high)\n",
    "cv2.imshow('scr',scr)\n",
    "# cv2.imshow('newscr',newscr)\n",
    "newscr = cv2.morphologyEx(newscr,cv2.MORPH_CLOSE,kernel, iterations = 2)\n",
    "band =  cv2.bitwise_and(scr,scr,mask = newscr)\n",
    "# canny = cv2.Canny(scr,50,100)\n",
    "\n",
    "cv2.imshow('blur',band)\n",
    "# cv2.imshow('thresh',mask)\n",
    "# cv2.imshow('canny',canny)\n",
    "# scr[440:480,200:480]=0\n",
    "q=cv2.waitKey(1)\n",
    "if q == 27:\n",
    "    cv2.destroyAllWindows()"
   ]
  },
  {
   "cell_type": "code",
   "execution_count": 90,
   "metadata": {
    "scrolled": false
   },
   "outputs": [
    {
     "name": "stdout",
     "output_type": "stream",
     "text": [
      "[[  0   0   0 ...,   0   0   0]\n",
      " [  0   0   0 ...,   0   0   0]\n",
      " [  0   0 255 ..., 255   0   0]\n",
      " ..., \n",
      " [  0   0 255 ..., 255 255 255]\n",
      " [  0   0 255 ..., 255 255 255]\n",
      " [  0   0 255 ..., 255 255 255]]\n"
     ]
    }
   ],
   "source": [
    "print(newscr)"
   ]
  },
  {
   "cell_type": "code",
   "execution_count": 26,
   "metadata": {},
   "outputs": [
    {
     "ename": "NameError",
     "evalue": "name 'box' is not defined",
     "output_type": "error",
     "traceback": [
      "\u001b[0;31m---------------------------------------------------------------------------\u001b[0m",
      "\u001b[0;31mNameError\u001b[0m                                 Traceback (most recent call last)",
      "\u001b[0;32m<ipython-input-26-4d1c26de45cd>\u001b[0m in \u001b[0;36m<module>\u001b[0;34m()\u001b[0m\n\u001b[0;32m----> 1\u001b[0;31m \u001b[0;32mfor\u001b[0m \u001b[0mi\u001b[0m\u001b[0;34m,\u001b[0m\u001b[0mj\u001b[0m \u001b[0;32min\u001b[0m \u001b[0mzip\u001b[0m\u001b[0;34m(\u001b[0m\u001b[0mrange\u001b[0m\u001b[0;34m(\u001b[0m\u001b[0;36m480\u001b[0m\u001b[0;34m-\u001b[0m\u001b[0mbox\u001b[0m\u001b[0;34m)\u001b[0m\u001b[0;34m,\u001b[0m\u001b[0mrange\u001b[0m\u001b[0;34m(\u001b[0m\u001b[0;36m680\u001b[0m\u001b[0;34m-\u001b[0m\u001b[0mbox\u001b[0m\u001b[0;34m)\u001b[0m\u001b[0;34m)\u001b[0m\u001b[0;34m:\u001b[0m\u001b[0;34m\u001b[0m\u001b[0m\n\u001b[0m\u001b[1;32m      2\u001b[0m     \u001b[0mm\u001b[0m \u001b[0;34m=\u001b[0m \u001b[0mnp\u001b[0m\u001b[0;34m.\u001b[0m\u001b[0mmean\u001b[0m\u001b[0;34m(\u001b[0m\u001b[0mscr\u001b[0m\u001b[0;34m[\u001b[0m\u001b[0mi\u001b[0m\u001b[0;34m:\u001b[0m\u001b[0mi\u001b[0m\u001b[0;34m+\u001b[0m\u001b[0mbox\u001b[0m\u001b[0;34m,\u001b[0m\u001b[0mj\u001b[0m\u001b[0;34m:\u001b[0m\u001b[0mj\u001b[0m\u001b[0;34m+\u001b[0m\u001b[0mbox\u001b[0m\u001b[0;34m]\u001b[0m\u001b[0;34m)\u001b[0m\u001b[0;34m\u001b[0m\u001b[0m\n\u001b[1;32m      3\u001b[0m     \u001b[0mn\u001b[0m \u001b[0;34m=\u001b[0m \u001b[0mnp\u001b[0m\u001b[0;34m.\u001b[0m\u001b[0mmean\u001b[0m\u001b[0;34m(\u001b[0m\u001b[0mscr\u001b[0m\u001b[0;34m[\u001b[0m\u001b[0mi\u001b[0m\u001b[0;34m:\u001b[0m\u001b[0mi\u001b[0m\u001b[0;34m+\u001b[0m\u001b[0mbox\u001b[0m\u001b[0;34m,\u001b[0m\u001b[0mj\u001b[0m\u001b[0;34m:\u001b[0m\u001b[0mj\u001b[0m\u001b[0;34m+\u001b[0m\u001b[0mbox\u001b[0m\u001b[0;34m]\u001b[0m\u001b[0;34m)\u001b[0m\u001b[0;34m\u001b[0m\u001b[0m\n\u001b[1;32m      4\u001b[0m \u001b[0;34m\u001b[0m\u001b[0m\n",
      "\u001b[0;31mNameError\u001b[0m: name 'box' is not defined"
     ]
    }
   ],
   "source": [
    "for i,j in zip(range(480-box),range(680-box)):\n",
    "    m = np.mean(scr[i:i+box,j:j+box])\n",
    "    n = np.mean(scr[i:i+box,j:j+box])\n",
    "    "
   ]
  },
  {
   "cell_type": "code",
   "execution_count": 16,
   "metadata": {
    "collapsed": true
   },
   "outputs": [],
   "source": [
    "def crtr():\n",
    "    def nothing(x):\n",
    "        pass\n",
    "    cv2.namedWindow(img)\n",
    "\n",
    "    # create trackbars for color change\n",
    "    cv2.createTrackbar('H',img,0,255,nothing)\n",
    "    cv2.createTrackbar('S',img,0,255,nothing)\n",
    "    cv2.createTrackbar('V',img,0,255,nothing)\n",
    "    cv2.createTrackbar('H1',img,0,255,nothing)\n",
    "    cv2.createTrackbar('S1',img,0,255,nothing)\n",
    "    cv2.createTrackbar('V1',img,0,255,nothing)"
   ]
  },
  {
   "cell_type": "code",
   "execution_count": null,
   "metadata": {
    "collapsed": true,
    "scrolled": true
   },
   "outputs": [],
   "source": [
    "import numpy as np\n",
    "import pandas as pd\n",
    "import time\n",
    "import cv2\n",
    "box = 5\n",
    "st = 4\n",
    "\n",
    "scr = cv2.imread('10.png')\n",
    "scr = cv2.resize(scr, (680,480)) \n",
    "blur = cv2.bilateralFilter(scr,70,30,100)\n",
    "hsv = cv2.cvtColor(blur, cv2.COLOR_BGR2HSV)\n",
    "img = 'track'\n",
    "crtr()\n",
    "y,z = [np.mean(hsv[440:480,200:480, i]) for i in range(1,3)]\n",
    "\n",
    "\n",
    "while True:\n",
    "    a = cv2.getTrackbarPos('H',img)\n",
    "    b = cv2.getTrackbarPos('S',img)\n",
    "    c = cv2.getTrackbarPos('V',img)\n",
    "    a1 = cv2.getTrackbarPos('H1',img)\n",
    "    b1 = cv2.getTrackbarPos('S1',img)\n",
    "    c1 = cv2.getTrackbarPos('V1',img)\n",
    "#     a=27\n",
    "#     b=20\n",
    "#     c=20\n",
    "#     x,y,z = [np.mean(hsv[440:480,200:480, i]) for i in range(3)]\n",
    "    low = (np.uint8([0,y,z]) - [0,b,c])\n",
    "    high = low + [180,2*b,2*c]\n",
    "    print(low,high)\n",
    "    mask = cv2.inRange(hsv,low,high)#np.uint8([a,b,c]),np.uint8([a1,b1,c1]))\n",
    "    blur[440:480,200:480]=0\n",
    "#     scr[mx-10:mx+1,my-8:my+3]=0\n",
    "    # cv2.imshow('canny',canny)\n",
    "#     cv2.imshow('src',scr)\n",
    "    cv2.imshow('blur',blur)\n",
    "    cv2.imshow('hsv',hsv)\n",
    "    cv2.imshow('thresh',mask)\n",
    "\n",
    "\n",
    "    q=cv2.waitKey(1)\n",
    "    if q == 27:\n",
    "    # time.sleep(30)\n",
    "        cv2.destroyAllWindows()"
   ]
  },
  {
   "cell_type": "code",
   "execution_count": null,
   "metadata": {},
   "outputs": [
    {
     "name": "stdout",
     "output_type": "stream",
     "text": [
      "52.8611607143 40.9039285714 42.1405357143\n"
     ]
    }
   ],
   "source": [
    "import numpy as np\n",
    "import pandas as pd\n",
    "import time\n",
    "import cv2\n",
    "box = 5\n",
    "st = 4\n",
    "cv2.destroyAllWindows()\n",
    "scr = cv2.imread('18.png')\n",
    "scr = cv2.resize(scr, (680,480)) \n",
    "blur = cv2.bilateralFilter(scr,70,30,100)\n",
    "# hsv = cv2.cvtColor(blur, cv2.COLOR_BGR2HSV)\n",
    "img = 'track'\n",
    "# crtr()\n",
    "x,y,z = [np.mean(blur[440:480,200:480, i]) for i in range(0,3)]\n",
    "print(x,y,z)\n",
    "\n",
    "while True:\n",
    "#     a = cv2.getTrackbarPos('H',img)\n",
    "#     b = cv2.getTrackbarPos('S',img)\n",
    "#     c = cv2.getTrackbarPos('V',img)\n",
    "#     a1 = cv2.getTrackbarPos('H1',img)\n",
    "#     b1 = cv2.getTrackbarPos('S1',img)\n",
    "#     c1 = cv2.getTrackbarPos('V1',img)\n",
    "# #     a=27\n",
    "#     b=20\n",
    "#     c=20\n",
    "#     x,y,z = [np.mean(hsv[440:480,200:480, i]) for i in range(3)]\n",
    "#     low = (np.uint8([0,y,z]) - [0,b,c])\n",
    "#     high = low + [180,2*b,2*c]\n",
    "#     low = np.uint8([a,b,c])\n",
    "#     high = np.uint8([a1,b1,c1])\n",
    "    low = np.uint8([x,y,z]) -15\n",
    "    high = np.uint8([x,y,z])+15\n",
    "#     print(low,high)\n",
    "    mask = cv2.inRange(blur,low,high)#np.uint8([a,b,c]),np.uint8([a1,b1,c1]))\n",
    "#     blur[440:480,200:480]=0\n",
    "#     scr[mx-10:mx+1,my-8:my+3]=0\n",
    "    # cv2.imshow('canny',canny)\n",
    "#     cv2.imshow('src',scr)\n",
    "    band =  cv2.bitwise_and(scr,scr,mask = mask)\n",
    "    cv2.imshow('blur',band)\n",
    "#     cv2.imshow('hsv',hsv)\n",
    "    cv2.imshow('thresh',mask)\n",
    "\n",
    "\n",
    "    q=cv2.waitKey(1)\n",
    "    if q == 27:\n",
    "    # time.sleep(30)\n",
    "        cv2.destroyAllWindows()"
   ]
  },
  {
   "cell_type": "code",
   "execution_count": null,
   "metadata": {
    "collapsed": true
   },
   "outputs": [],
   "source": [
    "print(a,b,c,a1,b1,c1)"
   ]
  },
  {
   "cell_type": "code",
   "execution_count": 18,
   "metadata": {},
   "outputs": [
    {
     "name": "stdout",
     "output_type": "stream",
     "text": [
      "uyp\n"
     ]
    }
   ],
   "source": [
    "import numpy as np\n",
    "if(all(np.array([0,0,0])-np.array([18,106,28]))):\n",
    "    print(\"uyp\")\n",
    "    67 70 73\n",
    "        117 121 120"
   ]
  },
  {
   "cell_type": "code",
   "execution_count": null,
   "metadata": {
    "collapsed": true
   },
   "outputs": [],
   "source": []
  },
  {
   "cell_type": "code",
   "execution_count": null,
   "metadata": {
    "collapsed": true
   },
   "outputs": [],
   "source": [
    "q=0\n",
    "road_mn = 100\n",
    "kernel = np.ones((3,3),np.uint8)\n",
    "while True:\n",
    "    vrec = cv2.VideoCapture('v2.mp4',0)\n",
    "    while True:\n",
    "        w=0;\n",
    "        ret, scr = vrec.read()\n",
    "        if not ret:\n",
    "            break\n",
    "#         time.sleep()\n",
    "\n",
    "        gray = cv2.cvtColor(scr, cv2.COLOR_BGR2GRAY)\n",
    "        hls = cv2.cvtColor(scr, cv2.COLOR_BGR2HLS)\n",
    "        hsv = cv2.cvtColor(scr, cv2.COLOR_BGR2HSV)\n",
    "#         scr = cv2.bilateralFilter(scr,40,100,100)\n",
    "        x,y,z = [np.mean(scr[335:355,160:460, i]) for i in range(3)]\n",
    "        low = np.uint8([x,y,z]) - 20\n",
    "        high = np.uint8([x,y,z]) + 20\n",
    "        mask = cv2.inRange(scr,low,high)\n",
    "        morp = cv2.morphologyEx(mask,cv2.MORPH_OPEN,kernel, iterations = 3)\n",
    "#         can = cv2.Canny(morp, 0, 255)\n",
    "        \n",
    "#         h1, h2, h3 = [np.min(hsv[335:355,160:460, i]) for i in range(3)]\n",
    "#         g1, g2, g3 = [np.max(hsv[335:355,160:460, i]) for i in range(3)]\n",
    "#         low1 = np.uint8([h1, h2, h3])\n",
    "#         high1 = np.uint8([g1, g2, g3])\n",
    "#         mask2 = cv2.inRange(hls,low1,high1)\n",
    "#         close = cv2.morphologyEx(mask,cv2.MORPH_CLOSE,kernel, iterations = 1)\n",
    "#         close = cv2.erode(close,kernel,iterations=3)\n",
    "        cv2.imshow('scr1',scr)\n",
    "        cv2.imshow('scr11',mask) \n",
    "#         cv2.imshow('hls',hls)\n",
    "        cv2.imshow('mask1',can)\n",
    "        cv2.imshow('morp',morp)\n",
    "#         cv2.imshow('mask2',mask2)\n",
    "        \n",
    "        \n",
    "#         cv2.imshow('close',close)\n",
    "        #75 365  405 365 75 265 405 265\n",
    "        q = cv2.waitKey(1)\n",
    "        if q == 27:\n",
    "            cv2.destroyAllWindows()\n",
    "            break\n",
    "    if q == 27:\n",
    "            cv2.destroyAllWindows()\n",
    "            break\n",
    "cv2.destroyAllWindows()"
   ]
  },
  {
   "cell_type": "code",
   "execution_count": 32,
   "metadata": {
    "collapsed": true
   },
   "outputs": [],
   "source": [
    "q=0\n",
    "road_mn = 100\n",
    "kernel = np.ones((5,5),np.uint8)\n",
    "clahe = cv2.createCLAHE(clipLimit=2.0, tileGridSize=(8,8))\n",
    "while True:\n",
    "    vrec = cv2.VideoCapture('v2.mp4',0)\n",
    "    while True:\n",
    "        ret, scr = vrec.read()\n",
    "        if not ret:\n",
    "            break\n",
    "        time.sleep(.03)\n",
    "        gray = cv2.cvtColor(scr, cv2.COLOR_BGR2GRAY)\n",
    "        hls = cv2.cvtColor(scr, cv2.COLOR_BGR2HLS)\n",
    "        hsv = cv2.cvtColor(scr, cv2.COLOR_BGR2HSV)\n",
    "        scr = cv2.bilateralFilter(scr,40,75,75)\n",
    "        \n",
    "        x,y,z = [np.min(hls[335:355,160:460, i]) for i in range(3)]\n",
    "        low = np.uint8([x,y,z]) * [1,0,1]\n",
    "        high = low + [0,255,0]\n",
    "        mask = cv2.inRange(hls, np.uint8([x,y,z]), np.uint8([x1,y1,z1]))\n",
    "\n",
    "        cv2.imshow('scr1',scr)\n",
    "        cv2.imshow('scr11',mask)\n",
    "#         cv2.imshow('scr111',can)\n",
    "#         cv2.imshow('scr1111',sure_fg)\n",
    "\n",
    "        cv2.imshow('scr2',gray)\n",
    "        cv2.imshow('hls',hls)\n",
    "        cv2.imshow('hsv',hsv)\n",
    "#         hsv[335:355,160:460]=higher_path\n",
    "#         cv2.imshow('scr3',hsv)\n",
    "#         cv2.imshow('scr4',res)\n",
    "        \n",
    "        #75 365  405 365 75 265 405 265\n",
    "        q = cv2.waitKey(1)\n",
    "        if q == 27:\n",
    "            cv2.destroyAllWindows()\n",
    "            break\n",
    "    if q == 27:\n",
    "            cv2.destroyAllWindows()\n",
    "            break\n",
    "cv2.destroyAllWindows()"
   ]
  },
  {
   "cell_type": "code",
   "execution_count": 38,
   "metadata": {
    "collapsed": true
   },
   "outputs": [],
   "source": [
    "        kernel = np.ones((5,5),np.uint8)\n",
    "        ret, thresh = cv2.threshold(gray,0,255,cv2.THRESH_BINARY_INV)\n",
    "        opening = cv2.morphologyEx(thresh,cv2.MORPH_OPEN,kernel, iterations = 2)\n",
    "        # sure background area\n",
    "        sure_bg = cv2.dilate(opening,kernel,iterations=3)\n",
    "        # Finding sure foreground area\n",
    "        dist_transform = cv2.distanceTransform(opening,cv2.DIST_L2,5)\n",
    "        ret, sure_fg = cv2.threshold(dist_transform,0.7*dist_transform.max(),255,0)\n",
    "        # Finding unknown region\n",
    "        sure_fg = np.uint8(sure_fg)\n",
    "        unknown = cv2.subtract(sure_bg,sure_fg)\n",
    "        # Marker labelling\n",
    "        ret, markers = cv2.connectedComponents(sure_fg)\n",
    "        # Add one to all labels so that sure background is not 0, but 1\n",
    "        markers = markers+1\n",
    "        # Now, mark the region of unknown with zero\n",
    "        markers[unknown==255] = 0\n",
    "        markers = cv2.watershed(scr,markers)\n",
    "        scr[markers == -1] = [255,0,0]\n",
    "        cv2.imshow('scr1',scr)\n",
    "#         scr = cv2.bilateralFilter(scr,9,75,75)\n",
    "#         scr1 = cv2.morphologyEx(scr, cv2.MORPH_OPEN, kernel)\n",
    "#         scr1 = cv2.morphologyEx(scr1, cv2.MORPH_CLOSE, kernel)\n",
    "#         scr11 = cv2.morphologyEx(scr, cv2.MORPH_CLOSE, kernel)\n",
    "#         scr11 = cv2.morphologyEx(scr11, cv2.MORPH_OPEN, kernel)\n",
    "#         erosion = cv2.erode(scr,kernel,iterations = 1)\n",
    "        \n",
    "#         gray = cv2.cvtColor(scr, cv2.COLOR_BGR2GRAY)\n",
    "#         hsv = cv2.cvtColor(scr, cv2.COLOR_BGR2HSV)\n",
    "#         x,y,z =[ np.min(scr[335:355,160:460,i]) for i in range(3)]#,np.mean(scr[75:406, 265:366, 1],dtype='int'),np.mean(scr[75:406, 265:366, 2],dtype='int')\n",
    "#         x1,y1,z1 =[ np.max(scr[335:355,160:460,i]) for i in range(3)]\n",
    "#         lower_path = cv2.cvtColor(np.uint8([[[x,y,z]]]),cv2.COLOR_BGR2HSV)\n",
    "#         higher_path = cv2.cvtColor(np.uint8([[[x1,y1,z1]]]),cv2.COLOR_BGR2HSV)\n",
    "#         mask = cv2.inRange(hsv,lower_path,higher_path)\n",
    "#         res = cv2.bitwise_and(scr,scr, mask= mask)"
   ]
  },
  {
   "cell_type": "code",
   "execution_count": 1,
   "metadata": {},
   "outputs": [
    {
     "name": "stdout",
     "output_type": "stream",
     "text": [
      "(480, 680, 3) 480 340\n",
      "[[0 0 0 ..., 0 0 0]\n",
      " [0 0 0 ..., 0 0 0]\n",
      " [0 0 0 ..., 0 0 0]\n",
      " ..., \n",
      " [1 1 1 ..., 1 1 1]\n",
      " [1 1 1 ..., 1 1 1]\n",
      " [1 1 1 ..., 1 1 1]]\n",
      "[[-1 -1 -1 ..., -1 -1 -1]\n",
      " [-1  1  1 ...,  1  1 -1]\n",
      " [-1  1  1 ...,  1  1 -1]\n",
      " ..., \n",
      " [-1  2  2 ...,  2  2 -1]\n",
      " [-1  2  2 ...,  2  2 -1]\n",
      " [-1 -1 -1 ..., -1 -1 -1]]\n"
     ]
    }
   ],
   "source": [
    "import numpy as np\n",
    "import pandas as pd\n",
    "import time\n",
    "import cv2\n",
    "scr = cv2.imread('18.png')\n",
    "scr = cv2.resize(scr, (680,480)) \n",
    "shape = scr.shape\n",
    "mx = shape[0]\n",
    "my = shape[1]//2\n",
    "print(shape,mx,my)\n",
    "scr[mx-10:mx+1,my-8:my+3]=0\n",
    "gray = cv2.cvtColor(scr, cv2.COLOR_BGR2GRAY)\n",
    "# cv2.imshow('canny',canny)\n",
    "cv2.imshow('src',scr)\n",
    "kernel = np.ones((5,5),np.uint8)\n",
    "x,y,z = [np.mean(scr[440:480,200:480, i]) for i in range(3)]\n",
    "low = np.uint8([x,y,z]) - 40\n",
    "high = np.uint8([x,y,z]) + 40\n",
    "thresh = cv2.inRange(scr,low,high)\n",
    "opening = cv2.morphologyEx(thresh,cv2.MORPH_OPEN,kernel, iterations = 2)\n",
    "        # sure background area\n",
    "sure_bg = cv2.dilate(opening,kernel,iterations=3)\n",
    "        # Finding sure foreground area\n",
    "dist_transform = cv2.distanceTransform(opening,cv2.DIST_L2,5)\n",
    "ret, sure_fg = cv2.threshold(dist_transform,0.0001*dist_transform.max(),255,0)\n",
    "        # Finding unknown region\n",
    "sure_fg = np.uint8(sure_fg)\n",
    "unknown = cv2.subtract(sure_bg,sure_fg)\n",
    "        # Marker labelling\n",
    "ret, markers = cv2.connectedComponents(sure_fg)\n",
    "print(markers)\n",
    "        # Add one to all labels so that sure background is not 0, but 1\n",
    "markers = markers+1\n",
    "        # Now, mark the region of unknown with zero\n",
    "markers[unknown==255] = 0\n",
    "markers = cv2.watershed(scr,markers)\n",
    "scr[markers == -1] = [0,0,255]\n",
    "print(markers)\n",
    "scr[440:480,200:480]=0\n",
    "cv2.imshow('scr1',scr)\n",
    "cv2.imshow('mask',thresh)\n",
    "q=cv2.waitKey(1)\n",
    "# if q == 27:\n",
    "time.sleep(60)\n",
    "cv2.destroyAllWindows()"
   ]
  },
  {
   "cell_type": "code",
   "execution_count": null,
   "metadata": {
    "collapsed": true
   },
   "outputs": [],
   "source": []
  }
 ],
 "metadata": {
  "kernelspec": {
   "display_name": "Python 3",
   "language": "python",
   "name": "python3"
  },
  "language_info": {
   "codemirror_mode": {
    "name": "ipython",
    "version": 3
   },
   "file_extension": ".py",
   "mimetype": "text/x-python",
   "name": "python",
   "nbconvert_exporter": "python",
   "pygments_lexer": "ipython3",
   "version": "3.6.2"
  }
 },
 "nbformat": 4,
 "nbformat_minor": 2
}
