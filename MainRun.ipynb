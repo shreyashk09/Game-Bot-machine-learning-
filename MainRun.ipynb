{
 "cells": [
  {
   "cell_type": "code",
   "execution_count": 29,
   "metadata": {
    "collapsed": true
   },
   "outputs": [],
   "source": [
    "import numpy as np\n",
    "import pandas as pd\n",
    "import time\n",
    "import cv2\n",
    "import threading\n",
    "\n",
    "from matplotlib import pyplot as plt\n",
    "import math"
   ]
  },
  {
   "cell_type": "code",
   "execution_count": 7,
   "metadata": {
    "scrolled": false
   },
   "outputs": [
    {
     "name": "stdout",
     "output_type": "stream",
     "text": [
      "running\n"
     ]
    },
    {
     "name": "stderr",
     "output_type": "stream",
     "text": [
      "/Users/shreyashkawalkar/anaconda3/lib/python3.6/site-packages/numpy/core/fromnumeric.py:2889: RuntimeWarning: Mean of empty slice.\n",
      "  out=out, **kwargs)\n",
      "/Users/shreyashkawalkar/anaconda3/lib/python3.6/site-packages/numpy/core/_methods.py:80: RuntimeWarning: invalid value encountered in double_scalars\n",
      "  ret = ret.dtype.type(ret / rcount)\n",
      "/Users/shreyashkawalkar/anaconda3/lib/python3.6/site-packages/ipykernel_launcher.py:95: DataConversionWarning: A column-vector y was passed when a 1d array was expected. Please change the shape of y to (n_samples, ), for example using ravel().\n"
     ]
    },
    {
     "name": "stdout",
     "output_type": "stream",
     "text": [
      "FPS:  3.33103338733759\n",
      "FPS:  11.787182859519554\n",
      "FPS:  12.067369826281597\n",
      "FPS:  11.318489574197658\n",
      "FPS:  11.369450543492993\n",
      "FPS:  11.67666284339818\n",
      "FPS:  11.28614520239053\n",
      "FPS:  11.74457265902606\n",
      "FPS:  11.149014896173354\n"
     ]
    }
   ],
   "source": [
    "import numpy as np\n",
    "import pandas as pd\n",
    "import time\n",
    "import cv2\n",
    "import threading\n",
    "from sklearn.neighbors import KNeighborsClassifier\n",
    "import copy\n",
    "\n",
    "classifier = KNeighborsClassifier(n_neighbors=1)  \n",
    "\n",
    "kernel = np.ones((3,3),np.uint8)\n",
    "shape = [480,680]\n",
    "scr2 = 0\n",
    "mx = shape[0] - 220\n",
    "my = shape[1]//2\n",
    "print(\"running\")\n",
    "kkk = 300*8*2\n",
    "mask_prev1 = np.zeros((shape[0]-220,shape[1]),np.uint8)\n",
    "mask_prev2 = np.zeros((shape[0]-220,shape[1]),np.uint8)\n",
    "mean_prev_hls = 0\n",
    "mean_prev_c = 0\n",
    "vrec = cv2.VideoCapture('v4.mp4',0)\n",
    "prev_info_countours = []\n",
    "prev_scr = None\n",
    "beg = 1\n",
    "while(kkk):\n",
    "    ret, scr = vrec.read()\n",
    "    kkk-=1\n",
    "# prev_scr = scr[220:480,:]\n",
    "while True: \n",
    "    start_time = time.time()\n",
    "    blank = cv2.imread('blank.png', 0)\n",
    "    blank = cv2.resize(blank,(680,260))\n",
    "    ret, scr = vrec.read()\n",
    "    if not ret:\n",
    "            break\n",
    "    scr = cv2.resize(scr, (680,480)) \n",
    "    scr = np.array(scr[220:480,:])\n",
    "    \n",
    "    cv2.imshow('scr1',scr)\n",
    "\n",
    "    frame = cv2.GaussianBlur(scr, (5, 5), 0)\n",
    "    scr = cv2.addWeighted(scr,2.5,frame,-1.5,0)\n",
    "    scr = cv2.bilateralFilter(scr,9,75,75)\n",
    "    \n",
    "    cv2.imshow('scred',scr)\n",
    "    gray = cv2.cvtColor(scr, cv2.COLOR_BGR2GRAY)\n",
    "    canny = cv2.Canny(gray,50,100)\n",
    "    canny = blank-canny\n",
    "    cv2.imshow(\"blank1\",canny)\n",
    "    dist_transform = cv2.distanceTransform(canny,cv2.DIST_L2,5)\n",
    "    ret, blank = cv2.threshold(dist_transform,0.01*dist_transform.max(),255,0)\n",
    "#     blank = cv2.dilate(blank,kernel,iterations = 2)\n",
    "    blank = cv2.morphologyEx(blank, cv2.MORPH_OPEN, kernel,3)\n",
    "    cv2.imshow(\"blankobj\",blank)\n",
    "    \n",
    "    \n",
    "    blank = np.uint8(blank)\n",
    "    cntblank = cv2.imread('blank.png', 0)\n",
    "    cntblank = cv2.resize(cntblank,(680,260))\n",
    "    img2, contours1, hierarchy1 = cv2.findContours(blank, cv2.RETR_TREE, cv2.CHAIN_APPROX_SIMPLE)\n",
    "    info_countours = []\n",
    "    train_info_countours = []\n",
    "    ind = 0\n",
    "    indexes = []\n",
    "    for cnt in contours1:\n",
    "        if len(cnt)>5:\n",
    "            indexes.append(ind)\n",
    "            ind+=1\n",
    "            (x,y),(MA,ma),angle = cv2.fitEllipse(cnt)\n",
    "            x,y = int(x),int(y)\n",
    "            mA = int(ma)//2\n",
    "            color = np.mean(gray[y-mA:y+mA,x-mA:x+mA])\n",
    "            y = max(min(259,y),0)\n",
    "            x = max(min(679,x),0)\n",
    "            if np.isnan(color):\n",
    "                color = gray[y,x]\n",
    "            info = [color,y,x,angle,MA,ma]\n",
    "            train_info_countours.append(info)\n",
    "            \n",
    "            if not beg:\n",
    "                ind_pred = classifier.predict(np.reshape(info,(-1,6)))\n",
    "                ind_pred = int(ind_pred)\n",
    "                if  len(prev_info_countours[ind_pred]) >= 15:\n",
    "                    del prev_info_countours[ind_pred][0]\n",
    "                info_countours.append( prev_info_countours[ind_pred] + [info[1:3]])\n",
    "            else:\n",
    "                prev_info_countours.append([info[1:3]])\n",
    "#             cv2.ellipse(scr,(x,y),(int(MA),int(ma)),angle,0,360,(0,255,255),1)\n",
    "            cv2.ellipse(cntblank,(x,y),(int(MA),int(ma)),angle,0,360,50,1)\n",
    "  \n",
    "    beg = 0\n",
    "    train_info_countours = np.reshape(train_info_countours,(-1,6))  \n",
    "    indexes = np.reshape(indexes,(-1,1)) \n",
    "    classifier.fit(train_info_countours,indexes)\n",
    "#     scr = cv2.drawContours(scr, contours1, -1, [255,255,0], 1)\n",
    "    cntblank = cv2.drawContours(cntblank, contours1, -1, 0, 1)\n",
    "#     cv2.imshow(\"scrobj\",scr)\n",
    "    cv2.imshow(\"blankobj2\",cntblank)\n",
    "    if info_countours !=[]:\n",
    "        prev_info_countours = copy.deepcopy(info_countours)\n",
    "    print(\"FPS: \", 1.0 / (time.time() - start_time))\n",
    "#     time.sleep(1)\n",
    "    q=cv2.waitKey(1)\n",
    "    if q == 27:\n",
    "        cv2.destroyAllWindows()\n",
    "        break\n",
    "cv2.destroyAllWindows()"
   ]
  },
  {
   "cell_type": "code",
   "execution_count": null,
   "metadata": {
    "collapsed": true
   },
   "outputs": [],
   "source": []
  }
 ],
 "metadata": {
  "kernelspec": {
   "display_name": "Python 3",
   "language": "python",
   "name": "python3"
  },
  "language_info": {
   "codemirror_mode": {
    "name": "ipython",
    "version": 3
   },
   "file_extension": ".py",
   "mimetype": "text/x-python",
   "name": "python",
   "nbconvert_exporter": "python",
   "pygments_lexer": "ipython3",
   "version": "3.6.2"
  }
 },
 "nbformat": 4,
 "nbformat_minor": 2
}
