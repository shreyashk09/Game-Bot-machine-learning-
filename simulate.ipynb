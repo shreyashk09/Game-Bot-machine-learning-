{
 "cells": [
  {
   "cell_type": "code",
   "execution_count": null,
   "metadata": {
    "collapsed": true
   },
   "outputs": [],
   "source": []
  },
  {
   "cell_type": "code",
   "execution_count": null,
   "metadata": {
    "collapsed": true
   },
   "outputs": [],
   "source": []
  },
  {
   "cell_type": "code",
   "execution_count": null,
   "metadata": {
    "collapsed": true
   },
   "outputs": [],
   "source": [
    "def hod_rd_sub1(mean):\n",
    "    for i in range(my,shape[1]-lmd,lmd-2):\n",
    "        ver_rd(i,mean)"
   ]
  },
  {
   "cell_type": "code",
   "execution_count": null,
   "metadata": {
    "collapsed": true
   },
   "outputs": [],
   "source": [
    "def hod_rd_sub2(mean1):\n",
    "    for i in range(my+lmd,0, -(lmd-2)):\n",
    "        ver_rd(i,mean1)"
   ]
  },
  {
   "cell_type": "code",
   "execution_count": null,
   "metadata": {
    "collapsed": true
   },
   "outputs": [],
   "source": [
    "def hor_rd(mean):\n",
    "    hod_rd_sub1(mean)\n",
    "    hod_rd_sub2(mean)"
   ]
  },
  {
   "cell_type": "code",
   "execution_count": null,
   "metadata": {
    "collapsed": true
   },
   "outputs": [],
   "source": [
    "def ver_rd(x,mean):\n",
    "    lm1 = lim1\n",
    "    lm2 = lim2\n",
    "    for i in range(mx,lmd+1,-(lmd-10)):\n",
    "        lm1 += lm1*0.03\n",
    "        lm2 += lm2*0.03\n",
    "        low = mean - [0,lm1,lm2]\n",
    "        high = mean + [180,lm1,lm2]\n",
    "        newscr[i-lmd:i, x:x+lmd] = cv2.inRange(hls[i-lmd:i, x:x+lmd],low,high)\n",
    "        res = [0]+[np.mean(hls[i-lmd:i, x:x+lmd,j]) for j in range(1,3)]\n",
    "        res = np.array(res)\n",
    "        if(abs(res[1]-mean[1])<=15 and abs(res[2]-mean[2])<=15):\n",
    "            mean = (4*res+6*mean)/10"
   ]
  },
  {
   "cell_type": "code",
   "execution_count": null,
   "metadata": {
    "collapsed": true
   },
   "outputs": [],
   "source": [
    "import numpy as np\n",
    "import pandas as pd\n",
    "import time\n",
    "import cv2\n",
    "import threading\n",
    "# lim = 4*std\n",
    "lmd = 40\n",
    "lim1 = lim2 = 20\n",
    "kernel = np.ones((3,3),np.uint8)\n",
    "\n",
    "shape = [480,680]#scr.shape\n",
    "scr2 = 0\n",
    "mx = shape[0]\n",
    "my = shape[1]//2\n",
    "print(\"running\")\n",
    "kkk = 300*8*6\n",
    "mask_prev1 = np.zeros((shape[0],shape[1]),np.uint8)\n",
    "mask_prev2 = np.zeros((shape[0],shape[1]),np.uint8)\n",
    "mean_prev = 0\n",
    "vrec = cv2.VideoCapture('v4.mp4',0)\n",
    "\n",
    "while(kkk):\n",
    "    kkk-=1\n",
    "    ret, scr = vrec.read()\n",
    "\n",
    "while True:\n",
    "    start_time = time.time()\n",
    "    scr = cv2.imread(\"dist.png\",1)\n",
    "#     if not ret:\n",
    "#         print(\"not running\")\n",
    "#         break\n",
    "    ret, scr = vrec.read()\n",
    "    if not ret:\n",
    "            break\n",
    "    scr = cv2.resize(scr, (680,480)) \n",
    "    scr1 = scr\n",
    "    scr2 = scr\n",
    "    newscr = np.zeros((shape[0],shape[1]),np.uint8)\n",
    "#     scr = cv2.bilateralFilter(scr,7,12,12)\n",
    "    hls = cv2.cvtColor(scr, cv2.COLOR_BGR2HLS)\n",
    "    mean = [0]+[np.mean(hls[440:480,200:480, i]) for i in range(1,3)]\n",
    "    std = [np.std(hls[440:480,200:480, i]) for i in range(1,3)]\n",
    "    lim1 = (lim1 + 16*std[0])/5  #(1:4(4))/5\n",
    "    lim2 = (lim2 + 16*std[1])/5\n",
    "#     print(lim1,lim2)\n",
    "    mean = np.array(mean)\n",
    "    mean = 0.6*mean + mean_prev*0.4\n",
    "    mean_prev = mean\n",
    "#     print(mean)\n",
    "    hor_rd(mean)\n",
    "    band =  cv2.bitwise_and(scr,scr,mask = newscr)\n",
    "    \n",
    "    gray = cv2.cvtColor(scr, cv2.COLOR_BGR2GRAY)\n",
    "    mean1 = np.mean(gray[440:480,200:480])\n",
    "    mean1 = np.array(mean1)\n",
    "    low1 = mean1 - 25\n",
    "    high1 = mean1 + 25\n",
    "    \n",
    "    mask1 = cv2.inRange(gray,low1,high1)\n",
    "    band1 =  cv2.bitwise_and(scr,scr,mask = mask1)\n",
    "#     newscr = cv2.morphologyEx(newscr,cv2.MORPH_OPEN,kernel, iterations = 1)\n",
    "#     newscr = cv2.morphologyEx(newscr,cv2.MORPH_CLOSE,kernel, iterations = 1)\n",
    "    \n",
    "        \n",
    "    mask3 = newscr+mask1\n",
    "#     band3 =  cv2.bitwise_and(scr,scr,mask = mask3)\n",
    "    \n",
    "    mask4 = mask_prev1 + mask3 \n",
    "#     mask_pres2 = mask_prev1\n",
    "    mask_prev1 = mask3 \n",
    "    \n",
    "#     canny = cv2.Canny(gray,10,50)\n",
    "#     cv2.imshow(\"canny\", canny)\n",
    "\n",
    "#     mask4 = cv2.morphologyEx(mask4,cv2.MORPH_OPEN,kernel, iterations = 1)\n",
    "#     mask4 = cv2.morphologyEx(mask4,cv2.MORPH_CLOSE,kernel, iterations = 1)\n",
    "    \n",
    "    \n",
    "#     cv2.imshow('blur',band)\n",
    "#     cv2.imshow('mean1',band1)\n",
    "#     cv2.imshow('band3',band3)\n",
    "#     cv2.imshow('newscr',newscr)\n",
    "#     cv2.imshow('mean1',mask1)\n",
    "    \n",
    "\n",
    "\n",
    "\n",
    "    mask4 = cv2.morphologyEx(mask4,cv2.MORPH_OPEN,kernel, iterations = 1)\n",
    "    mask4 = cv2.morphologyEx(mask4,cv2.MORPH_CLOSE,kernel, iterations = 1)\n",
    "    cv2.imshow('band3',mask4)\n",
    "    dist_transform = cv2.distanceTransform(mask4,cv2.DIST_L2,5)\n",
    "    ret, mask4 = cv2.threshold(dist_transform,0.07*dist_transform.max(),255,0)\n",
    "\n",
    "    cv2.imshow('band4',mask4)\n",
    "    mask4 = np.array(mask4)\n",
    "    \n",
    "    \n",
    "    \n",
    "#     mask4 = np.uint8(mask4)\n",
    "#     im2, contours, hierarchy = cv2.findContours(mask4, cv2.RETR_TREE, cv2.CHAIN_APPROX_SIMPLE)\n",
    "    \n",
    "#     im3, newcontours, newhierarchy = cv2.findContours(mask4, cv2.RETR_TREE, cv2.CHAIN_APPROX_SIMPLE)\n",
    "#     scr1 = cv2.drawContours(scr1, newcontours, -1, (0,255,255), 3)\n",
    "#     cv2.imshow('scr1',scr1)\n",
    "    \n",
    "#     ncont=len(contours)\n",
    "#     for i in range(ncont):\n",
    "#         if(True):#len(contours[i])>100):\n",
    "#             epsilon = 0.003*cv2.arcLength(contours[i], True)\n",
    "#             contours[i] = cv2.approxPolyDP(contours[i], epsilon, True)\n",
    "        \n",
    "\n",
    "        \n",
    "        \n",
    "# #     cnt = contours[-5:]\n",
    "# #     scr1 = cv2.drawContours(scr, contours, 3, (0,255,0), 3)\n",
    "    \n",
    "#     scr2 = cv2.drawContours(scr2, contours, -1, (255,0,0), 3)    \n",
    "# #     scr1 = cv2.drawContours(scr, contours, 2, (0,0,255), 3)\n",
    "# #     scr1 = cv2.drawContours(scr, contours, 4, (0,255,255), 3)\n",
    "# #     scr1 = cv2.drawContours(scr, contours, 5, (255,0,255), 3)\n",
    "# #     scr1 = cv2.drawContours(scr, contours, 6, (255,255,0), 3)\n",
    "# #     scr1 = cv2.drawContours(scr, contours, 7, (255,255,255), 3)\n",
    "# #     scr1 = cv2.drawContours(scr, contours, 3, (0,255,0), 3)\n",
    "# #     scr1 = cv2.drawContours(scr, contours, 4, (0,255,0), 3)\n",
    "# #     scr1 = cv2.drawContours(scr, contours, 5, (0,255,0), 3)\n",
    "    \n",
    "    \n",
    "#     cv2.line(scr2,(0,480),(340,240),(255,255,0),2)\n",
    "#     cv2.line(scr2,(680,480),(340,240),(255,255,0),2)\n",
    "#     cv2.imshow('scr',scr2)\n",
    "#     cv2.imshow('band4',mask4)\n",
    "#     cv2.imshow('scr2',scr2)\n",
    "#     print(mask4.shape)\n",
    "\n",
    "    cv2.line(scr2,(0,480),(340,int(220)),(0,255,255),1)\n",
    "    cv2.line(scr2,(680,480),(340,int(220)),(0,255,255),1)\n",
    "    \n",
    "    cv2.line(scr2,(0,int(220)),(680,int(220)),(0,0,255),2)#216  220\n",
    "    \n",
    "    for ind in range(0,260+20,20):\n",
    "        xx = (ind)*2\n",
    "        cv2.putText(scr2,str(xx),(10,480-ind), cv2.FONT_HERSHEY_SIMPLEX, 1,(255,255,0),1,cv2.LINE_AA)\n",
    "        cv2.line(scr2,(0,480-ind),(680,480-ind),(0,255,255),1)\n",
    "\n",
    "    \n",
    "    cv2.imshow('scr2',scr2)\n",
    "#     time.sleep(0.2)\n",
    "#     print(\"FPS: \", 1.0 / (time.time() - start_time))\n",
    "    q=cv2.waitKey(1)\n",
    "    if q == 27:\n",
    "        cv2.destroyAllWindows()\n",
    "        break\n",
    "cv2.destroyAllWindows()"
   ]
  },
  {
   "cell_type": "code",
   "execution_count": null,
   "metadata": {
    "collapsed": true
   },
   "outputs": [],
   "source": []
  },
  {
   "cell_type": "code",
   "execution_count": null,
   "metadata": {
    "collapsed": true
   },
   "outputs": [],
   "source": []
  },
  {
   "cell_type": "code",
   "execution_count": null,
   "metadata": {
    "collapsed": true
   },
   "outputs": [],
   "source": []
  },
  {
   "cell_type": "code",
   "execution_count": null,
   "metadata": {
    "collapsed": true
   },
   "outputs": [],
   "source": []
  }
 ],
 "metadata": {
  "kernelspec": {
   "display_name": "Python 3",
   "language": "python",
   "name": "python3"
  },
  "language_info": {
   "codemirror_mode": {
    "name": "ipython",
    "version": 3
   },
   "file_extension": ".py",
   "mimetype": "text/x-python",
   "name": "python",
   "nbconvert_exporter": "python",
   "pygments_lexer": "ipython3",
   "version": "3.6.2"
  }
 },
 "nbformat": 4,
 "nbformat_minor": 2
}
