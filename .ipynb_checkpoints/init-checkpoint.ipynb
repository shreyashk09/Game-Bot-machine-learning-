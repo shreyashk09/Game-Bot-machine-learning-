{
 "cells": [
  {
   "cell_type": "code",
   "execution_count": 14,
   "metadata": {},
   "outputs": [],
   "source": [
    "import numpy as np\n",
    "import pandas as pd\n",
    "import time\n",
    "import cv2"
   ]
  },
  {
   "cell_type": "code",
   "execution_count": 26,
   "metadata": {},
   "outputs": [
    {
     "name": "stderr",
     "output_type": "stream",
     "text": [
      "/Users/shreyashkawalkar/anaconda3/lib/python3.6/site-packages/ipykernel_launcher.py:7: FutureWarning: comparison to `None` will result in an elementwise object comparison in the future.\n",
      "  import sys\n"
     ]
    }
   ],
   "source": [
    "q=0\n",
    "road_mn = 100\n",
    "while True:\n",
    "    vrec = cv2.VideoCapture('v2.mp4',0)\n",
    "    while True:\n",
    "        ret, scr = vrec.read()\n",
    "        if scr == None:\n",
    "            break\n",
    "        gray = cv2.cvtColor(scr, cv2.COLOR_BGR2GRAY)\n",
    "#         x,y,z =np.mean(scr[75:406][265:366][0]),np.mean(scr[75:406][265:366][1]),np.mean(scr[75:406][265:366][2])\n",
    "#         print(x,y,z)\n",
    "        ret, thresh = cv2.threshold(gray,100,200,cv2.THRESH_BINARY_INV+cv2.THRESH_OTSU)\n",
    "        cv2.imshow('scr1',scr)\n",
    "        cv2.imshow('scr2',gray)\n",
    "        cv2.imshow('scr3',thresh)\n",
    "        \n",
    "        #75 365  405 365 75 265 405 265\n",
    "        q = cv2.waitKey(1)\n",
    "        if q == 27:\n",
    "            cv2.destroyAllWindows()\n",
    "            break\n",
    "    if q == 27:\n",
    "            cv2.destroyAllWindows()\n",
    "            break\n",
    "cv2.destroyAllWindows()"
   ]
  },
  {
   "cell_type": "code",
   "execution_count": 18,
   "metadata": {},
   "outputs": [
    {
     "ename": "KeyboardInterrupt",
     "evalue": "",
     "output_type": "error",
     "traceback": [
      "\u001b[0;31m---------------------------------------------------------------------------\u001b[0m",
      "\u001b[0;31mKeyboardInterrupt\u001b[0m                         Traceback (most recent call last)",
      "\u001b[0;32m<ipython-input-18-450b2e8e94ac>\u001b[0m in \u001b[0;36m<module>\u001b[0;34m()\u001b[0m\n\u001b[1;32m      7\u001b[0m         \u001b[0mret\u001b[0m\u001b[0;34m,\u001b[0m \u001b[0mscr\u001b[0m \u001b[0;34m=\u001b[0m \u001b[0mvrec\u001b[0m\u001b[0;34m.\u001b[0m\u001b[0mread\u001b[0m\u001b[0;34m(\u001b[0m\u001b[0;34m)\u001b[0m\u001b[0;34m\u001b[0m\u001b[0m\n\u001b[1;32m      8\u001b[0m         \u001b[0mcv2\u001b[0m\u001b[0;34m.\u001b[0m\u001b[0mimshow\u001b[0m\u001b[0;34m(\u001b[0m\u001b[0;34m'scr1'\u001b[0m\u001b[0;34m,\u001b[0m\u001b[0mscr\u001b[0m\u001b[0;34m)\u001b[0m\u001b[0;34m\u001b[0m\u001b[0m\n\u001b[0;32m----> 9\u001b[0;31m         \u001b[0mq\u001b[0m \u001b[0;34m=\u001b[0m \u001b[0mcv2\u001b[0m\u001b[0;34m.\u001b[0m\u001b[0mwaitKey\u001b[0m\u001b[0;34m(\u001b[0m\u001b[0;36m1\u001b[0m\u001b[0;34m)\u001b[0m\u001b[0;34m\u001b[0m\u001b[0m\n\u001b[0m\u001b[1;32m     10\u001b[0m         \u001b[0;32mif\u001b[0m \u001b[0mq\u001b[0m \u001b[0;34m==\u001b[0m \u001b[0;36m27\u001b[0m\u001b[0;34m:\u001b[0m\u001b[0;34m\u001b[0m\u001b[0m\n\u001b[1;32m     11\u001b[0m             \u001b[0mcv2\u001b[0m\u001b[0;34m.\u001b[0m\u001b[0mdestroyAllWindows\u001b[0m\u001b[0;34m(\u001b[0m\u001b[0;34m)\u001b[0m\u001b[0;34m\u001b[0m\u001b[0m\n",
      "\u001b[0;31mKeyboardInterrupt\u001b[0m: "
     ]
    }
   ],
   "source": [
    "q=0\n",
    "road_mn = 100\n",
    "while True:\n",
    "    vrec = cv2.VideoCapture('v2.mp4')\n",
    "    time.sleep(10)\n",
    "    while True:\n",
    "        ret, scr = vrec.read()\n",
    "        cv2.imshow('scr1',scr)\n",
    "        q = cv2.waitKey(1)\n",
    "        if q == 27:\n",
    "            cv2.destroyAllWindows()\n",
    "            break\n",
    "cv2.destroyAllWindows()"
   ]
  },
  {
   "cell_type": "code",
   "execution_count": null,
   "metadata": {
    "collapsed": true
   },
   "outputs": [],
   "source": []
  }
 ],
 "metadata": {
  "kernelspec": {
   "display_name": "Python 3",
   "language": "python",
   "name": "python3"
  },
  "language_info": {
   "codemirror_mode": {
    "name": "ipython",
    "version": 3
   },
   "file_extension": ".py",
   "mimetype": "text/x-python",
   "name": "python",
   "nbconvert_exporter": "python",
   "pygments_lexer": "ipython3",
   "version": "3.6.2"
  }
 },
 "nbformat": 4,
 "nbformat_minor": 2
}
