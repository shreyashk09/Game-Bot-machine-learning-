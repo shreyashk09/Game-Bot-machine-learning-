{
 "cells": [
  {
   "cell_type": "code",
   "execution_count": 1,
   "metadata": {
    "collapsed": true
   },
   "outputs": [
    {
     "name": "stderr",
     "output_type": "stream",
     "text": [
      "Using TensorFlow backend.\n",
      "/Users/shreyashkawalkar/anaconda3/lib/python3.6/importlib/_bootstrap.py:205: RuntimeWarning: compiletime version 3.5 of module 'tensorflow.python.framework.fast_tensor_util' does not match runtime version 3.6\n",
      "  return f(*args, **kwds)\n"
     ]
    }
   ],
   "source": [
    "from keras import Model\n",
    "from keras.models import Sequential, Layer\n",
    "from keras.layers import Dense, MaxPool2D, Dropout,MaxPool2D, Activation,BatchNormalization, InputLayer, Embedding, Flatten, Conv2D,concatenate, MaxPooling2D, Input, TimeDistributed\n",
    "from keras.optimizers import SGD, Adam, RMSprop\n",
    "import keras.utils\n",
    "from keras import backend as K\n",
    "from keras.preprocessing.image import ImageDataGenerator, array_to_img, img_to_array, load_img\n",
    "from keras.preprocessing import image\n",
    "from keras.layers import Flatten, LSTM\n",
    "import numpy as np"
   ]
  },
  {
   "cell_type": "code",
   "execution_count": null,
   "metadata": {
    "collapsed": true
   },
   "outputs": [],
   "source": [
    "#input::: [disp,slp]"
   ]
  },
  {
   "cell_type": "code",
   "execution_count": null,
   "metadata": {
    "collapsed": true
   },
   "outputs": [],
   "source": [
    "model = Sequential()  \n",
    "model.add(LSTM(2, input_shape=(20, 2), unroll=False, return_sequences=True))\n",
    "model.add(Dense(11))\n",
    "model.compile(loss='mean_absolute_error', optimizer='adam')\n",
    "model.fit(data, target, nb_epoch=1000, batch_size=1, verbose=2)"
   ]
  },
  {
   "cell_type": "code",
   "execution_count": 1,
   "metadata": {},
   "outputs": [
    {
     "name": "stdout",
     "output_type": "stream",
     "text": [
      "FPS:  0.49417833195678784\n"
     ]
    }
   ],
   "source": [
    "import cv2\n",
    "import numpy as np\n",
    "import time\n",
    "\n",
    "vrec = cv2.VideoCapture('720p.mp4',0)\n",
    "shape = [480,680]\n",
    "kkk = 50\n",
    "while(kkk):\n",
    "    kkk-=1\n",
    "    ret, scr = vrec.read()\n",
    "while True:\n",
    "    d = np.zeros((shape[0],shape[1]),np.uint8)\n",
    "    start_time = time.time()\n",
    "\n",
    "    ret , mask4 = vrec.read()\n",
    "    \n",
    "    if not ret:\n",
    "        break\n",
    "    mask4 = cv2.resize(mask4, (680,480))\n",
    "\n",
    "    cv2.imshow('scr1',mask4)\n",
    "    ret , mask4 = vrec.read()\n",
    "    ret , mask4 = vrec.read()\n",
    "    ret , mask4 = vrec.read()\n",
    "    mask4 = cv2.resize(mask4, (680,480))\n",
    "    cv2.imshow('scr2',mask4)\n",
    "    ret , mask4 = vrec.read()\n",
    "    ret , mask4 = vrec.read()\n",
    "    ret , mask4 = vrec.read()\n",
    "    mask4 = cv2.resize(mask4, (680,480))\n",
    "    cv2.imshow('scr3',mask4)\n",
    "    ret , mask4 = vrec.read()\n",
    "    ret , mask4 = vrec.read()\n",
    "    ret , mask4 = vrec.read()\n",
    "    mask4 = cv2.resize(mask4, (680,480))\n",
    "    cv2.imshow('scr4',mask4)\n",
    "    ret , mask4 = vrec.read()\n",
    "    ret , mask4 = vrec.read()\n",
    "    ret , mask4 = vrec.read()\n",
    "    mask4 = cv2.resize(mask4, (680,480))\n",
    "    cv2.imshow('scr5',mask4)\n",
    "    ret , mask4 = vrec.read()\n",
    "    ret , mask4 = vrec.read()\n",
    "    ret , mask4 = vrec.read()\n",
    "    mask4 = cv2.resize(mask4, (680,480))\n",
    "    cv2.imshow('scr6',mask4)\n",
    "    ret , mask4 = vrec.read()\n",
    "    ret , mask4 = vrec.read()\n",
    "    ret , mask4 = vrec.read()\n",
    "    mask4 = cv2.resize(mask4, (680,480))\n",
    "    cv2.imshow('scr7',mask4)\n",
    "    ret , mask4 = vrec.read()\n",
    "    ret , mask4 = vrec.read()\n",
    "    ret , mask4 = vrec.read()\n",
    "    mask4 = cv2.resize(mask4, (680,480))\n",
    "    cv2.imshow('scr8',mask4)\n",
    "    ret , mask4 = vrec.read()\n",
    "    ret , mask4 = vrec.read()\n",
    "    ret , mask4 = vrec.read()\n",
    "    mask4 = cv2.resize(mask4, (680,480))\n",
    "    cv2.imshow('scr9',mask4)\n",
    "    ret , mask4 = vrec.read()\n",
    "    ret , mask4 = vrec.read()\n",
    "    ret , mask4 = vrec.read()\n",
    "    mask4 = cv2.resize(mask4, (680,480))\n",
    "    cv2.imshow('scr10',mask4)\n",
    "\n",
    "    \n",
    "    mask4 = np.uint8(mask4)\n",
    "    time.sleep(0.5)\n",
    "#     break\n",
    "    print(\"FPS: \", 1.0 / (time.time() - start_time))\n",
    "    q=cv2.waitKey(1)\n",
    "\n",
    "    if q==27:\n",
    "        cv2.destroyAllWindows()\n",
    "        break;\n",
    "    break\n",
    "# cv2.destroyAllWindows()"
   ]
  },
  {
   "cell_type": "code",
   "execution_count": null,
   "metadata": {
    "collapsed": true
   },
   "outputs": [],
   "source": []
  }
 ],
 "metadata": {
  "kernelspec": {
   "display_name": "Python 3",
   "language": "python",
   "name": "python3"
  },
  "language_info": {
   "codemirror_mode": {
    "name": "ipython",
    "version": 3
   },
   "file_extension": ".py",
   "mimetype": "text/x-python",
   "name": "python",
   "nbconvert_exporter": "python",
   "pygments_lexer": "ipython3",
   "version": "3.6.2"
  }
 },
 "nbformat": 4,
 "nbformat_minor": 2
}
