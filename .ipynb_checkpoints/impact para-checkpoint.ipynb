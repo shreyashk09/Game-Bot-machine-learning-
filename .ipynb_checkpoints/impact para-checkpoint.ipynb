{
 "cells": [
  {
   "cell_type": "code",
   "execution_count": 6,
   "metadata": {
    "collapsed": true
   },
   "outputs": [],
   "source": [
    "import numpy as np\n",
    "import cv2\n",
    "import time\n",
    "import threading"
   ]
  },
  {
   "cell_type": "code",
   "execution_count": 2,
   "metadata": {
    "collapsed": true
   },
   "outputs": [],
   "source": [
    "farpx = 340\n",
    "farpy = 240*0.95"
   ]
  },
  {
   "cell_type": "code",
   "execution_count": 8,
   "metadata": {
    "collapsed": true
   },
   "outputs": [],
   "source": [
    "def dist(pos):\n",
    "    ind = (480-pos[1])*2\n",
    "    return ind"
   ]
  },
  {
   "cell_type": "code",
   "execution_count": 9,
   "metadata": {
    "collapsed": true
   },
   "outputs": [],
   "source": [
    "def speed(pos1,pos2):\n",
    "    spd = dist(pos2) - dist(pos1)\n",
    "    return spd"
   ]
  },
  {
   "cell_type": "code",
   "execution_count": 10,
   "metadata": {
    "collapsed": true
   },
   "outputs": [],
   "source": [
    "def dirct(pos1,pos2):\n",
    "    slp = (pos2[1] - pos1[1])/(pos2[0] - pos1[0])\n",
    "    return slp"
   ]
  },
  {
   "cell_type": "code",
   "execution_count": 4,
   "metadata": {
    "collapsed": true
   },
   "outputs": [],
   "source": [
    "vrec = cv2.VideoCapture('11.mp4',0)\n",
    "shape = [480,680]\n",
    "b = np.zeros((shape[0],shape[1]),np.uint8)\n",
    "c = np.zeros((shape[0],shape[1]),np.uint8)\n",
    "while True:\n",
    "    d = np.zeros((shape[0],shape[1]),np.uint8)\n",
    "    start_time = time.time()\n",
    "#     ret , scr = \n",
    "    ret , mask4 = vrec.read()\n",
    "    if not ret:\n",
    "        break\n",
    "    mask4 = cv2.resize(mask4, (680,480))\n",
    "    mask4 = cv2.cvtColor(mask4,cv2.COLOR_BGR2GRAY)\n",
    "    scr2 = mask4\n",
    "\n",
    "    \n",
    "    d1 = mask4 - b\n",
    "    d2 = b - c\n",
    "    \n",
    "\n",
    "    \n",
    "#     cv2.imshow('d1',d1)\n",
    "#     cv2.imshow('d2',d2)\n",
    "    cv2.imshow('scr1',mask4)\n",
    "    c=b\n",
    "    b=mask4\n",
    "    \n",
    "    mask4 = np.uint8(mask4)\n",
    "    im2, contours, hierarchy = cv2.findContours(mask4, cv2.RETR_TREE, cv2.CHAIN_APPROX_SIMPLE)\n",
    "    \n",
    "#     im3, newcontours, newhierarchy = cv2.findContours(mask4, cv2.RETR_TREE, cv2.CHAIN_APPROX_SIMPLE)\n",
    "#     scr1 = cv2.drawContours(scr1, newcontours, -1, (0,255,255), 3)\n",
    "#     cv2.imshow('scr1',scr1)\n",
    "    \n",
    "    ncont=len(contours)\n",
    "    for i in range(ncont):\n",
    "        if(True):\n",
    "            epsilon = 0.003*cv2.arcLength(contours[i], True)\n",
    "            contours[i] = cv2.approxPolyDP(contours[i], epsilon, True)\n",
    "        \n",
    "\n",
    "    \n",
    "    d = cv2.drawContours(d, contours, -1, (255,0,0), 1)    \n",
    "    \n",
    "    \n",
    "    cv2.line(d,(0,480),(340,int(240*0.95)),(255,255,255),2)\n",
    "    cv2.line(d,(680,480),(340,int(240*0.95)),(255,255,255),2)\n",
    "    cv2.line(d,(0,int(240*0.95)),(680,int(240*0.95)),(255,255,255),2)\n",
    "#     cv2.imshow('scr2',scr2)\n",
    "#     cv2.imshow('band4',mask4)\n",
    "    cv2.imshow('d',d)\n",
    "\n",
    "\n",
    "#     print(\"FPS: \", 1.0 / (time.time() - start_time))\n",
    "    q=cv2.waitKey(1)\n",
    "\n",
    "    if q==27:\n",
    "        cv2.destroyAllWindows()\n",
    "        break;\n",
    "cv2.destroyAllWindows()"
   ]
  },
  {
   "cell_type": "code",
   "execution_count": null,
   "metadata": {
    "collapsed": true
   },
   "outputs": [],
   "source": [
    "###all are treated as obstacles, no seprate boundaries or dividers\n",
    "\n",
    "##module 1\n",
    "#input: speed slope pixel priority\n",
    "#predict next location rnn \n",
    "#output: impact factors (safe-layers and epicenter)\n",
    "\n",
    "#module 2\n",
    "#input: impact factors\n",
    "#final output: fwd, brake, left, right, fwdleft, fwdright\n",
    "\n",
    "\n",
    "#module 3\n",
    "# dist obst\n",
    "#output: speed fwd speed control"
   ]
  },
  {
   "cell_type": "code",
   "execution_count": 7,
   "metadata": {},
   "outputs": [
    {
     "data": {
      "text/plain": [
       "True"
      ]
     },
     "execution_count": 7,
     "metadata": {},
     "output_type": "execute_result"
    }
   ],
   "source": [
    "scr = cv2.imread('dist3.png',1)\n",
    "scr = cv2.resize(scr, (680,480)) \n",
    "cv2.imshow('dist',scr)\n",
    "cv2.imwrite('messigray1.png',scr)"
   ]
  },
  {
   "cell_type": "code",
   "execution_count": null,
   "metadata": {
    "collapsed": true
   },
   "outputs": [],
   "source": []
  }
 ],
 "metadata": {
  "kernelspec": {
   "display_name": "Python 3",
   "language": "python",
   "name": "python3"
  },
  "language_info": {
   "codemirror_mode": {
    "name": "ipython",
    "version": 3
   },
   "file_extension": ".py",
   "mimetype": "text/x-python",
   "name": "python",
   "nbconvert_exporter": "python",
   "pygments_lexer": "ipython3",
   "version": "3.6.2"
  }
 },
 "nbformat": 4,
 "nbformat_minor": 2
}
