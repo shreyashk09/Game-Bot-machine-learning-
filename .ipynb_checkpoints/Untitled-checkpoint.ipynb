{
 "cells": [
  {
   "cell_type": "code",
   "execution_count": 1,
   "metadata": {
    "collapsed": true
   },
   "outputs": [],
   "source": [
    "# SCRAPING GSOC ORGANISATIONS"
   ]
  },
  {
   "cell_type": "code",
   "execution_count": 21,
   "metadata": {},
   "outputs": [],
   "source": [
    "import requests\n",
    "import bs4"
   ]
  },
  {
   "cell_type": "code",
   "execution_count": 22,
   "metadata": {
    "collapsed": true
   },
   "outputs": [],
   "source": [
    "base_link = 'https://summerofcode.withgoogle.com'\n",
    "organisations_links = []\n",
    "org_links = []\n",
    "org_tech = []\n",
    "org_name = []\n",
    "org_descp = []\n",
    "org_topics = []\n",
    "org_mail = []"
   ]
  },
  {
   "cell_type": "code",
   "execution_count": 23,
   "metadata": {},
   "outputs": [],
   "source": [
    "res = requests.get('https://summerofcode.withgoogle.com/archive/2017/organizations/')"
   ]
  },
  {
   "cell_type": "code",
   "execution_count": 24,
   "metadata": {},
   "outputs": [],
   "source": [
    "soup = bs4.BeautifulSoup(res.content,\"lxml\")"
   ]
  },
  {
   "cell_type": "code",
   "execution_count": 25,
   "metadata": {},
   "outputs": [],
   "source": [
    "links = soup.find_all(\"a\",{'class':\"organization-card__link\"})"
   ]
  },
  {
   "cell_type": "code",
   "execution_count": 26,
   "metadata": {},
   "outputs": [],
   "source": [
    "for link in links:\n",
    "    organisations_links.append(base_link + link.get('href'))"
   ]
  },
  {
   "cell_type": "code",
   "execution_count": 28,
   "metadata": {},
   "outputs": [],
   "source": [
    "for org in organisations_links:\n",
    "    res1 = requests.get(org)\n",
    "    soup1 = bs4.BeautifulSoup(res1.content,\"lxml\")\n",
    "    org_links.append(soup1.find(\"a\",{'class':\"org__link\"}).get('href'))\n",
    "    techn =  soup1.find_all(\"li\" ,{'class':'organization__tag organization__tag--technology'})\n",
    "    tl = []\n",
    "    for tech in techn:\n",
    "        tl . append(tech.string)\n",
    "    org_tech.append(tech)\n",
    "    meta_button = soup1.find_all(\"md-button\",{\"class\":\"md-primary org__meta-button\"})\n",
    "    org_mail.append(meta_button[-1].get('href')[7:])\n",
    "    decp = soup1.find('div',{'class':\"archive-project-card__content md-padding font-black-54\" })\n",
    "\n",
    "    if decp is None:\n",
    "        org_descp.append(\"none\")\n",
    "    else:\n",
    "        org_descp.append(decp.string)\n",
    "\n",
    "\n",
    "    org_name.append( soup1.find('h3',{ 'class':\"banner__title\"}).string)\n",
    "    "
   ]
  },
  {
   "cell_type": "code",
   "execution_count": null,
   "metadata": {
    "collapsed": true
   },
   "outputs": [],
   "source": []
  },
  {
   "cell_type": "code",
   "execution_count": null,
   "metadata": {
    "collapsed": true
   },
   "outputs": [],
   "source": [
    "#### creating database"
   ]
  },
  {
   "cell_type": "code",
   "execution_count": 30,
   "metadata": {},
   "outputs": [
    {
     "name": "stdout",
     "output_type": "stream",
     "text": [
      "Opened database successfully\n",
      "Table created successfully\n",
      "successfully inserted 0\n",
      "successfully inserted 1\n",
      "successfully inserted 2\n",
      "successfully inserted 3\n",
      "successfully inserted 4\n",
      "successfully inserted 5\n",
      "successfully inserted 6\n",
      "successfully inserted 7\n",
      "successfully inserted 8\n",
      "successfully inserted 9\n",
      "successfully inserted 10\n",
      "successfully inserted 11\n",
      "successfully inserted 12\n",
      "successfully inserted 13\n",
      "successfully inserted 14\n"
     ]
    },
    {
     "ename": "OperationalError",
     "evalue": "near \"s\": syntax error",
     "output_type": "error",
     "traceback": [
      "\u001b[0;31m---------------------------------------------------------------------------\u001b[0m",
      "\u001b[0;31mOperationalError\u001b[0m                          Traceback (most recent call last)",
      "\u001b[0;32m<ipython-input-30-d599445c6409>\u001b[0m in \u001b[0;36m<module>\u001b[0;34m()\u001b[0m\n\u001b[1;32m     14\u001b[0m \u001b[0mprint\u001b[0m\u001b[0;34m(\u001b[0m\u001b[0;34m\"Table created successfully\"\u001b[0m\u001b[0;34m)\u001b[0m\u001b[0;34m;\u001b[0m\u001b[0;34m\u001b[0m\u001b[0m\n\u001b[1;32m     15\u001b[0m \u001b[0;32mfor\u001b[0m \u001b[0mi\u001b[0m \u001b[0;32min\u001b[0m \u001b[0mrange\u001b[0m\u001b[0;34m(\u001b[0m\u001b[0mlen\u001b[0m\u001b[0;34m(\u001b[0m\u001b[0morganisations_links\u001b[0m\u001b[0;34m)\u001b[0m\u001b[0;34m)\u001b[0m\u001b[0;34m:\u001b[0m\u001b[0;34m\u001b[0m\u001b[0m\n\u001b[0;32m---> 16\u001b[0;31m     \u001b[0mconn\u001b[0m\u001b[0;34m.\u001b[0m\u001b[0mexecute\u001b[0m\u001b[0;34m(\u001b[0m\u001b[0;34m\"INSERT INTO ORGS VALUES('\"\u001b[0m\u001b[0;34m+\u001b[0m\u001b[0morg_name\u001b[0m\u001b[0;34m[\u001b[0m\u001b[0mi\u001b[0m\u001b[0;34m]\u001b[0m\u001b[0;34m+\u001b[0m \u001b[0;34m\"','\"\u001b[0m\u001b[0;34m+\u001b[0m\u001b[0mstr\u001b[0m\u001b[0;34m(\u001b[0m\u001b[0morg_links\u001b[0m\u001b[0;34m[\u001b[0m\u001b[0mi\u001b[0m\u001b[0;34m]\u001b[0m\u001b[0;34m)\u001b[0m\u001b[0;34m+\u001b[0m\u001b[0;34m\"','\"\u001b[0m\u001b[0;34m+\u001b[0m\u001b[0mstr\u001b[0m\u001b[0;34m(\u001b[0m\u001b[0morg_descp\u001b[0m\u001b[0;34m[\u001b[0m\u001b[0mi\u001b[0m\u001b[0;34m]\u001b[0m\u001b[0;34m)\u001b[0m\u001b[0;34m+\u001b[0m\u001b[0;34m\"','\"\u001b[0m\u001b[0;34m+\u001b[0m\u001b[0mstr\u001b[0m\u001b[0;34m(\u001b[0m\u001b[0morg_tech\u001b[0m\u001b[0;34m[\u001b[0m\u001b[0mi\u001b[0m\u001b[0;34m]\u001b[0m\u001b[0;34m)\u001b[0m\u001b[0;34m+\u001b[0m\u001b[0;34m\"','\"\u001b[0m\u001b[0;34m+\u001b[0m\u001b[0mstr\u001b[0m\u001b[0;34m(\u001b[0m\u001b[0morg_mail\u001b[0m\u001b[0;34m[\u001b[0m\u001b[0mi\u001b[0m\u001b[0;34m]\u001b[0m\u001b[0;34m)\u001b[0m\u001b[0;34m+\u001b[0m\u001b[0;34m\"');\"\u001b[0m\u001b[0;34m)\u001b[0m\u001b[0;34m\u001b[0m\u001b[0m\n\u001b[0m\u001b[1;32m     17\u001b[0m     \u001b[0mprint\u001b[0m\u001b[0;34m(\u001b[0m\u001b[0;34m\"successfully inserted\"\u001b[0m\u001b[0;34m,\u001b[0m\u001b[0mi\u001b[0m\u001b[0;34m)\u001b[0m\u001b[0;34m\u001b[0m\u001b[0m\n\u001b[1;32m     18\u001b[0m \u001b[0mconn\u001b[0m\u001b[0;34m.\u001b[0m\u001b[0mclose\u001b[0m\u001b[0;34m(\u001b[0m\u001b[0;34m)\u001b[0m\u001b[0;34m\u001b[0m\u001b[0m\n",
      "\u001b[0;31mOperationalError\u001b[0m: near \"s\": syntax error"
     ]
    }
   ],
   "source": [
    "import sqlite3\n",
    "\n",
    "conn = sqlite3.connect('GSOC_ORG.sqlite')\n",
    "print(\"Opened database successfully\");\n",
    "\n",
    "conn.execute('''CREATE TABLE ORGS\n",
    "         (\n",
    "         organization   TEXT    NOT NULL,\n",
    "         link            TEXT,\n",
    "         description    TEXT,\n",
    "         technologies   TEXT,\n",
    "         contact    TEXT\n",
    "         );''')\n",
    "print(\"Table created successfully\");\n",
    "for i in range(len(organisations_links)):\n",
    "    conn.execute(\"INSERT INTO ORGS VALUES('\"+org_name[i]+ \"','\"+str(org_links[i])+\"','\"+str(org_descp[i])+\"','\"+str(org_tech[i])+\"','\"+str(org_mail[i])+\"');\")\n",
    "    print(\"successfully inserted\",i)\n",
    "conn.close()"
   ]
  },
  {
   "cell_type": "code",
   "execution_count": 31,
   "metadata": {
    "collapsed": true
   },
   "outputs": [],
   "source": [
    "conn.close()"
   ]
  },
  {
   "cell_type": "code",
   "execution_count": null,
   "metadata": {
    "collapsed": true
   },
   "outputs": [],
   "source": []
  },
  {
   "cell_type": "code",
   "execution_count": null,
   "metadata": {
    "collapsed": true
   },
   "outputs": [],
   "source": []
  },
  {
   "cell_type": "code",
   "execution_count": null,
   "metadata": {
    "scrolled": true
   },
   "outputs": [
    {
     "name": "stderr",
     "output_type": "stream",
     "text": [
      " * Running on http://127.0.0.1:5002/ (Press CTRL+C to quit)\n",
      "127.0.0.1 - - [22/Mar/2018 08:16:45] \"GET / HTTP/1.1\" 404 -\n",
      "127.0.0.1 - - [22/Mar/2018 08:16:54] \"GET / HTTP/1.1\" 404 -\n",
      "[2018-03-22 08:17:14,929] ERROR in app: Exception on /organisations [GET]\n",
      "Traceback (most recent call last):\n",
      "  File \"/Users/shreyashkawalkar/anaconda3/lib/python3.6/site-packages/sqlalchemy/engine/base.py\", line 2147, in _wrap_pool_connect\n",
      "    return fn()\n",
      "  File \"/Users/shreyashkawalkar/anaconda3/lib/python3.6/site-packages/sqlalchemy/pool.py\", line 328, in unique_connection\n",
      "    return _ConnectionFairy._checkout(self)\n",
      "  File \"/Users/shreyashkawalkar/anaconda3/lib/python3.6/site-packages/sqlalchemy/pool.py\", line 766, in _checkout\n",
      "    fairy = _ConnectionRecord.checkout(pool)\n",
      "  File \"/Users/shreyashkawalkar/anaconda3/lib/python3.6/site-packages/sqlalchemy/pool.py\", line 516, in checkout\n",
      "    rec = pool._do_get()\n",
      "  File \"/Users/shreyashkawalkar/anaconda3/lib/python3.6/site-packages/sqlalchemy/pool.py\", line 1229, in _do_get\n",
      "    return self._create_connection()\n",
      "  File \"/Users/shreyashkawalkar/anaconda3/lib/python3.6/site-packages/sqlalchemy/pool.py\", line 333, in _create_connection\n",
      "    return _ConnectionRecord(self)\n",
      "  File \"/Users/shreyashkawalkar/anaconda3/lib/python3.6/site-packages/sqlalchemy/pool.py\", line 461, in __init__\n",
      "    self.__connect(first_connect_check=True)\n",
      "  File \"/Users/shreyashkawalkar/anaconda3/lib/python3.6/site-packages/sqlalchemy/pool.py\", line 651, in __connect\n",
      "    connection = pool._invoke_creator(self)\n",
      "  File \"/Users/shreyashkawalkar/anaconda3/lib/python3.6/site-packages/sqlalchemy/engine/strategies.py\", line 105, in connect\n",
      "    return dialect.connect(*cargs, **cparams)\n",
      "  File \"/Users/shreyashkawalkar/anaconda3/lib/python3.6/site-packages/sqlalchemy/engine/default.py\", line 393, in connect\n",
      "    return self.dbapi.connect(*cargs, **cparams)\n",
      "sqlite3.OperationalError: unable to open database file\n",
      "\n",
      "The above exception was the direct cause of the following exception:\n",
      "\n",
      "Traceback (most recent call last):\n",
      "  File \"/Users/shreyashkawalkar/anaconda3/lib/python3.6/site-packages/flask/app.py\", line 1612, in full_dispatch_request\n",
      "    rv = self.dispatch_request()\n",
      "  File \"/Users/shreyashkawalkar/anaconda3/lib/python3.6/site-packages/flask/app.py\", line 1598, in dispatch_request\n",
      "    return self.view_functions[rule.endpoint](**req.view_args)\n",
      "  File \"/Users/shreyashkawalkar/anaconda3/lib/python3.6/site-packages/flask_restful/__init__.py\", line 480, in wrapper\n",
      "    resp = resource(*args, **kwargs)\n",
      "  File \"/Users/shreyashkawalkar/anaconda3/lib/python3.6/site-packages/flask/views.py\", line 84, in view\n",
      "    return self.dispatch_request(*args, **kwargs)\n",
      "  File \"/Users/shreyashkawalkar/anaconda3/lib/python3.6/site-packages/flask_restful/__init__.py\", line 595, in dispatch_request\n",
      "    resp = meth(*args, **kwargs)\n",
      "  File \"<ipython-input-5-057888d2a92f>\", line 13, in get\n",
      "    conn = db_connect.connect() # connect to database\n",
      "  File \"/Users/shreyashkawalkar/anaconda3/lib/python3.6/site-packages/sqlalchemy/engine/base.py\", line 2091, in connect\n",
      "    return self._connection_cls(self, **kwargs)\n",
      "  File \"/Users/shreyashkawalkar/anaconda3/lib/python3.6/site-packages/sqlalchemy/engine/base.py\", line 90, in __init__\n",
      "    if connection is not None else engine.raw_connection()\n",
      "  File \"/Users/shreyashkawalkar/anaconda3/lib/python3.6/site-packages/sqlalchemy/engine/base.py\", line 2177, in raw_connection\n",
      "    self.pool.unique_connection, _connection)\n",
      "  File \"/Users/shreyashkawalkar/anaconda3/lib/python3.6/site-packages/sqlalchemy/engine/base.py\", line 2151, in _wrap_pool_connect\n",
      "    e, dialect, self)\n",
      "  File \"/Users/shreyashkawalkar/anaconda3/lib/python3.6/site-packages/sqlalchemy/engine/base.py\", line 1465, in _handle_dbapi_exception_noconnection\n",
      "    exc_info\n",
      "  File \"/Users/shreyashkawalkar/anaconda3/lib/python3.6/site-packages/sqlalchemy/util/compat.py\", line 203, in raise_from_cause\n",
      "    reraise(type(exception), exception, tb=exc_tb, cause=cause)\n",
      "  File \"/Users/shreyashkawalkar/anaconda3/lib/python3.6/site-packages/sqlalchemy/util/compat.py\", line 186, in reraise\n",
      "    raise value.with_traceback(tb)\n",
      "  File \"/Users/shreyashkawalkar/anaconda3/lib/python3.6/site-packages/sqlalchemy/engine/base.py\", line 2147, in _wrap_pool_connect\n",
      "    return fn()\n",
      "  File \"/Users/shreyashkawalkar/anaconda3/lib/python3.6/site-packages/sqlalchemy/pool.py\", line 328, in unique_connection\n",
      "    return _ConnectionFairy._checkout(self)\n",
      "  File \"/Users/shreyashkawalkar/anaconda3/lib/python3.6/site-packages/sqlalchemy/pool.py\", line 766, in _checkout\n",
      "    fairy = _ConnectionRecord.checkout(pool)\n",
      "  File \"/Users/shreyashkawalkar/anaconda3/lib/python3.6/site-packages/sqlalchemy/pool.py\", line 516, in checkout\n",
      "    rec = pool._do_get()\n",
      "  File \"/Users/shreyashkawalkar/anaconda3/lib/python3.6/site-packages/sqlalchemy/pool.py\", line 1229, in _do_get\n",
      "    return self._create_connection()\n",
      "  File \"/Users/shreyashkawalkar/anaconda3/lib/python3.6/site-packages/sqlalchemy/pool.py\", line 333, in _create_connection\n",
      "    return _ConnectionRecord(self)\n",
      "  File \"/Users/shreyashkawalkar/anaconda3/lib/python3.6/site-packages/sqlalchemy/pool.py\", line 461, in __init__\n",
      "    self.__connect(first_connect_check=True)\n",
      "  File \"/Users/shreyashkawalkar/anaconda3/lib/python3.6/site-packages/sqlalchemy/pool.py\", line 651, in __connect\n",
      "    connection = pool._invoke_creator(self)\n",
      "  File \"/Users/shreyashkawalkar/anaconda3/lib/python3.6/site-packages/sqlalchemy/engine/strategies.py\", line 105, in connect\n",
      "    return dialect.connect(*cargs, **cparams)\n",
      "  File \"/Users/shreyashkawalkar/anaconda3/lib/python3.6/site-packages/sqlalchemy/engine/default.py\", line 393, in connect\n",
      "    return self.dbapi.connect(*cargs, **cparams)\n",
      "sqlalchemy.exc.OperationalError: (sqlite3.OperationalError) unable to open database file\n",
      "127.0.0.1 - - [22/Mar/2018 08:17:14] \"GET /organisations HTTP/1.1\" 500 -\n",
      "[2018-03-22 08:18:34,100] ERROR in app: Exception on /organisations [GET]\n",
      "Traceback (most recent call last):\n",
      "  File \"/Users/shreyashkawalkar/anaconda3/lib/python3.6/site-packages/sqlalchemy/engine/base.py\", line 2147, in _wrap_pool_connect\n",
      "    return fn()\n",
      "  File \"/Users/shreyashkawalkar/anaconda3/lib/python3.6/site-packages/sqlalchemy/pool.py\", line 328, in unique_connection\n",
      "    return _ConnectionFairy._checkout(self)\n",
      "  File \"/Users/shreyashkawalkar/anaconda3/lib/python3.6/site-packages/sqlalchemy/pool.py\", line 766, in _checkout\n",
      "    fairy = _ConnectionRecord.checkout(pool)\n",
      "  File \"/Users/shreyashkawalkar/anaconda3/lib/python3.6/site-packages/sqlalchemy/pool.py\", line 516, in checkout\n",
      "    rec = pool._do_get()\n",
      "  File \"/Users/shreyashkawalkar/anaconda3/lib/python3.6/site-packages/sqlalchemy/pool.py\", line 1229, in _do_get\n",
      "    return self._create_connection()\n",
      "  File \"/Users/shreyashkawalkar/anaconda3/lib/python3.6/site-packages/sqlalchemy/pool.py\", line 333, in _create_connection\n",
      "    return _ConnectionRecord(self)\n",
      "  File \"/Users/shreyashkawalkar/anaconda3/lib/python3.6/site-packages/sqlalchemy/pool.py\", line 461, in __init__\n",
      "    self.__connect(first_connect_check=True)\n",
      "  File \"/Users/shreyashkawalkar/anaconda3/lib/python3.6/site-packages/sqlalchemy/pool.py\", line 651, in __connect\n",
      "    connection = pool._invoke_creator(self)\n",
      "  File \"/Users/shreyashkawalkar/anaconda3/lib/python3.6/site-packages/sqlalchemy/engine/strategies.py\", line 105, in connect\n",
      "    return dialect.connect(*cargs, **cparams)\n",
      "  File \"/Users/shreyashkawalkar/anaconda3/lib/python3.6/site-packages/sqlalchemy/engine/default.py\", line 393, in connect\n",
      "    return self.dbapi.connect(*cargs, **cparams)\n",
      "sqlite3.OperationalError: unable to open database file\n",
      "\n",
      "The above exception was the direct cause of the following exception:\n",
      "\n",
      "Traceback (most recent call last):\n",
      "  File \"/Users/shreyashkawalkar/anaconda3/lib/python3.6/site-packages/flask/app.py\", line 1612, in full_dispatch_request\n",
      "    rv = self.dispatch_request()\n",
      "  File \"/Users/shreyashkawalkar/anaconda3/lib/python3.6/site-packages/flask/app.py\", line 1598, in dispatch_request\n",
      "    return self.view_functions[rule.endpoint](**req.view_args)\n",
      "  File \"/Users/shreyashkawalkar/anaconda3/lib/python3.6/site-packages/flask_restful/__init__.py\", line 480, in wrapper\n",
      "    resp = resource(*args, **kwargs)\n",
      "  File \"/Users/shreyashkawalkar/anaconda3/lib/python3.6/site-packages/flask/views.py\", line 84, in view\n",
      "    return self.dispatch_request(*args, **kwargs)\n",
      "  File \"/Users/shreyashkawalkar/anaconda3/lib/python3.6/site-packages/flask_restful/__init__.py\", line 595, in dispatch_request\n",
      "    resp = meth(*args, **kwargs)\n",
      "  File \"<ipython-input-5-057888d2a92f>\", line 13, in get\n",
      "    conn = db_connect.connect() # connect to database\n",
      "  File \"/Users/shreyashkawalkar/anaconda3/lib/python3.6/site-packages/sqlalchemy/engine/base.py\", line 2091, in connect\n",
      "    return self._connection_cls(self, **kwargs)\n",
      "  File \"/Users/shreyashkawalkar/anaconda3/lib/python3.6/site-packages/sqlalchemy/engine/base.py\", line 90, in __init__\n",
      "    if connection is not None else engine.raw_connection()\n",
      "  File \"/Users/shreyashkawalkar/anaconda3/lib/python3.6/site-packages/sqlalchemy/engine/base.py\", line 2177, in raw_connection\n",
      "    self.pool.unique_connection, _connection)\n",
      "  File \"/Users/shreyashkawalkar/anaconda3/lib/python3.6/site-packages/sqlalchemy/engine/base.py\", line 2151, in _wrap_pool_connect\n",
      "    e, dialect, self)\n",
      "  File \"/Users/shreyashkawalkar/anaconda3/lib/python3.6/site-packages/sqlalchemy/engine/base.py\", line 1465, in _handle_dbapi_exception_noconnection\n",
      "    exc_info\n",
      "  File \"/Users/shreyashkawalkar/anaconda3/lib/python3.6/site-packages/sqlalchemy/util/compat.py\", line 203, in raise_from_cause\n",
      "    reraise(type(exception), exception, tb=exc_tb, cause=cause)\n",
      "  File \"/Users/shreyashkawalkar/anaconda3/lib/python3.6/site-packages/sqlalchemy/util/compat.py\", line 186, in reraise\n",
      "    raise value.with_traceback(tb)\n",
      "  File \"/Users/shreyashkawalkar/anaconda3/lib/python3.6/site-packages/sqlalchemy/engine/base.py\", line 2147, in _wrap_pool_connect\n",
      "    return fn()\n",
      "  File \"/Users/shreyashkawalkar/anaconda3/lib/python3.6/site-packages/sqlalchemy/pool.py\", line 328, in unique_connection\n",
      "    return _ConnectionFairy._checkout(self)\n",
      "  File \"/Users/shreyashkawalkar/anaconda3/lib/python3.6/site-packages/sqlalchemy/pool.py\", line 766, in _checkout\n",
      "    fairy = _ConnectionRecord.checkout(pool)\n",
      "  File \"/Users/shreyashkawalkar/anaconda3/lib/python3.6/site-packages/sqlalchemy/pool.py\", line 516, in checkout\n",
      "    rec = pool._do_get()\n",
      "  File \"/Users/shreyashkawalkar/anaconda3/lib/python3.6/site-packages/sqlalchemy/pool.py\", line 1229, in _do_get\n",
      "    return self._create_connection()\n",
      "  File \"/Users/shreyashkawalkar/anaconda3/lib/python3.6/site-packages/sqlalchemy/pool.py\", line 333, in _create_connection\n",
      "    return _ConnectionRecord(self)\n",
      "  File \"/Users/shreyashkawalkar/anaconda3/lib/python3.6/site-packages/sqlalchemy/pool.py\", line 461, in __init__\n",
      "    self.__connect(first_connect_check=True)\n",
      "  File \"/Users/shreyashkawalkar/anaconda3/lib/python3.6/site-packages/sqlalchemy/pool.py\", line 651, in __connect\n",
      "    connection = pool._invoke_creator(self)\n",
      "  File \"/Users/shreyashkawalkar/anaconda3/lib/python3.6/site-packages/sqlalchemy/engine/strategies.py\", line 105, in connect\n",
      "    return dialect.connect(*cargs, **cparams)\n",
      "  File \"/Users/shreyashkawalkar/anaconda3/lib/python3.6/site-packages/sqlalchemy/engine/default.py\", line 393, in connect\n",
      "    return self.dbapi.connect(*cargs, **cparams)\n",
      "sqlalchemy.exc.OperationalError: (sqlite3.OperationalError) unable to open database file\n"
     ]
    },
    {
     "name": "stderr",
     "output_type": "stream",
     "text": [
      "127.0.0.1 - - [22/Mar/2018 08:18:34] \"GET /organisations HTTP/1.1\" 500 -\n"
     ]
    }
   ],
   "source": [
    "from flask import Flask, request\n",
    "from flask_restful import Resource, Api\n",
    "from sqlalchemy import create_engine\n",
    "from json import dumps\n",
    "from flask import jsonify\n",
    "\n",
    "db_connect = create_engine('sqlite:////' +'GSOC_ORG.db')\n",
    "app = Flask(__name__)\n",
    "api = Api(app)\n",
    "\n",
    "class Organisations(Resource):\n",
    "    def get(self):\n",
    "        conn = db_connect.connect() # connect to database\n",
    "        query = conn.execute(\"select * from ORGS\") # This line performs query and returns json result\n",
    "        return {'employees': [i[0] for i in query.cursor.fetchall()]} # Fetches first column that is Employee ID\n",
    "\n",
    "api.add_resource(Organisations, '/organisations') # Route_1\n",
    "\n",
    "\n",
    "if __name__ == '__main__':\n",
    "     app.run(port='5002')\n",
    "     "
   ]
  },
  {
   "cell_type": "code",
   "execution_count": null,
   "metadata": {
    "collapsed": true
   },
   "outputs": [],
   "source": [
    "#complete"
   ]
  },
  {
   "cell_type": "code",
   "execution_count": null,
   "metadata": {
    "collapsed": true
   },
   "outputs": [],
   "source": []
  },
  {
   "cell_type": "code",
   "execution_count": null,
   "metadata": {
    "collapsed": true
   },
   "outputs": [],
   "source": []
  },
  {
   "cell_type": "code",
   "execution_count": null,
   "metadata": {
    "collapsed": true
   },
   "outputs": [],
   "source": []
  },
  {
   "cell_type": "code",
   "execution_count": null,
   "metadata": {
    "collapsed": true
   },
   "outputs": [],
   "source": []
  },
  {
   "cell_type": "code",
   "execution_count": null,
   "metadata": {
    "collapsed": true
   },
   "outputs": [],
   "source": []
  },
  {
   "cell_type": "code",
   "execution_count": null,
   "metadata": {
    "collapsed": true
   },
   "outputs": [],
   "source": []
  },
  {
   "cell_type": "code",
   "execution_count": null,
   "metadata": {
    "collapsed": true
   },
   "outputs": [],
   "source": []
  },
  {
   "cell_type": "code",
   "execution_count": null,
   "metadata": {
    "collapsed": true
   },
   "outputs": [],
   "source": []
  },
  {
   "cell_type": "code",
   "execution_count": 1,
   "metadata": {},
   "outputs": [
    {
     "name": "stderr",
     "output_type": "stream",
     "text": [
      " * Running on http://127.0.0.1:5000/ (Press CTRL+C to quit)\n",
      " * Restarting with stat\n"
     ]
    },
    {
     "ename": "SystemExit",
     "evalue": "1",
     "output_type": "error",
     "traceback": [
      "An exception has occurred, use %tb to see the full traceback.\n",
      "\u001b[0;31mSystemExit\u001b[0m\u001b[0;31m:\u001b[0m 1\n"
     ]
    },
    {
     "name": "stderr",
     "output_type": "stream",
     "text": [
      "/Users/shreyashkawalkar/anaconda3/lib/python3.6/site-packages/IPython/core/interactiveshell.py:2870: UserWarning: To exit: use 'exit', 'quit', or Ctrl-D.\n",
      "  warn(\"To exit: use 'exit', 'quit', or Ctrl-D.\", stacklevel=1)\n"
     ]
    }
   ],
   "source": [
    "from flask import Flask, request, jsonify\n",
    "from flask_sqlalchemy import SQLAlchemy\n",
    "from flask_marshmallow import Marshmallow\n",
    "import os\n",
    "import sys\n",
    "\n",
    "app = Flask(__name__)\n",
    "app.config['SQLALCHEMY_DATABASE_URI'] = 'GSOC_ORG.sqlite'\n",
    "app.config['SQLALCHEMY_TRACK_MODIFICATIONS'] = False\n",
    "db = SQLAlchemy(app)\n",
    "ma = Marshmallow(app)\n",
    "\n",
    "\n",
    "class org(db.Model):\n",
    "    id = db.Column(db.Integer, primary_key=True)\n",
    "    organisation = db.Column(db.TEXT, unique=True)\n",
    "    link = db.Column(db.TEXT)\n",
    "    description = db.Column(db.TEXT)\n",
    "    technologies = db.Column(db.TEXT)\n",
    "    contact = db.Column(db.TEXT)\n",
    "    def __init__(self, organisation, link, description, technologies, contact):\n",
    "        self.organisation = organisation\n",
    "        self.link = link\n",
    "        self.description = description\n",
    "        self.technologies = technologies\n",
    "        self.contact = contact\n",
    "        \n",
    "\n",
    "\n",
    "class orgs(ma.Schema):\n",
    "    class Meta:\n",
    "        fields = ('organisation', 'link', 'description', 'technologies', 'contact')\n",
    "\n",
    "orgs_schema = orgs(many=True)\n",
    "\n",
    "\n",
    "@app.route(\"/organisations\", methods=[\"GET\"])\n",
    "def get_orgs():\n",
    "    all_orgs = org.query.all()\n",
    "    result = orgs_schema.dump(all_orgs)\n",
    "    return jsonify(result.data)\n",
    "\n",
    "\n",
    "if __name__ == '__main__':\n",
    "    app.run(debug=True)\n",
    "    sys.exit(0)"
   ]
  }
 ],
 "metadata": {
  "kernelspec": {
   "display_name": "Python 3",
   "language": "python",
   "name": "python3"
  },
  "language_info": {
   "codemirror_mode": {
    "name": "ipython",
    "version": 3
   },
   "file_extension": ".py",
   "mimetype": "text/x-python",
   "name": "python",
   "nbconvert_exporter": "python",
   "pygments_lexer": "ipython3",
   "version": "3.6.3"
  }
 },
 "nbformat": 4,
 "nbformat_minor": 2
}
